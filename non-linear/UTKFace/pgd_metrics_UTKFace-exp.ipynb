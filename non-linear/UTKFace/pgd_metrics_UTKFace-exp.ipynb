{
 "cells": [
  {
   "cell_type": "code",
   "execution_count": 2,
   "metadata": {},
   "outputs": [],
   "source": [
    "import json"
   ]
  },
  {
   "cell_type": "code",
   "execution_count": 3,
   "metadata": {},
   "outputs": [
    {
     "name": "stdout",
     "output_type": "stream",
     "text": [
      "/home/vibha/Documents/Research/project3/New/1\n"
     ]
    }
   ],
   "source": [
    "import os\n",
    "print(os.getcwd())"
   ]
  },
  {
   "cell_type": "code",
   "execution_count": 4,
   "metadata": {},
   "outputs": [],
   "source": [
    "import warnings\n",
    "warnings.filterwarnings('ignore')"
   ]
  },
  {
   "cell_type": "code",
   "execution_count": 5,
   "metadata": {},
   "outputs": [
    {
     "data": {
      "text/html": [
       "<style>.container { width:100% !important; }</style>"
      ],
      "text/plain": [
       "<IPython.core.display.HTML object>"
      ]
     },
     "metadata": {},
     "output_type": "display_data"
    }
   ],
   "source": [
    "from IPython.core.display import display, HTML\n",
    "display(HTML(\"<style>.container { width:100% !important; }</style>\"))"
   ]
  },
  {
   "cell_type": "code",
   "execution_count": 6,
   "metadata": {},
   "outputs": [],
   "source": [
    "import matplotlib.pyplot as plt\n",
    "from PIL import Image\n",
    "import pickle\n",
    "import pandas as pd"
   ]
  },
  {
   "cell_type": "code",
   "execution_count": 7,
   "metadata": {},
   "outputs": [],
   "source": [
    "from numpy.linalg import norm\n",
    "from decimal import Decimal, ROUND_HALF_EVEN"
   ]
  },
  {
   "cell_type": "code",
   "execution_count": 8,
   "metadata": {},
   "outputs": [],
   "source": [
    "from fb_utils import *"
   ]
  },
  {
   "cell_type": "code",
   "execution_count": 9,
   "metadata": {},
   "outputs": [],
   "source": [
    "from UTKFace_train_utils import *"
   ]
  },
  {
   "cell_type": "code",
   "execution_count": 10,
   "metadata": {},
   "outputs": [],
   "source": [
    "def get_gen_acc(dl, model, concept_index, foolbox_model=False):\n",
    "    acc_after = 0\n",
    "\n",
    "    for batch_index, batch in enumerate(dl):\n",
    "        concept_label = batch['labels'][concept_index]\n",
    "        if not foolbox_model:\n",
    "            imgs = batch['image_norm']\n",
    "            yp_after = model(imgs.cuda()).cpu()\n",
    "        else:\n",
    "            imgs = batch['image']\n",
    "            yp_after = model(ep.astensor(imgs.cuda())).raw.cpu()\n",
    "\n",
    "        acc_after += (yp_after.max(dim=1)[1] == concept_label).sum().item()\n",
    "\n",
    "    return acc_after"
   ]
  },
  {
   "cell_type": "code",
   "execution_count": 11,
   "metadata": {},
   "outputs": [],
   "source": [
    "def get_gen_loss(dl, model, concept_index, foolbox_model=False, avg_overall_loss=True):\n",
    "    #acc_after = 0\n",
    "    avg_loss_list = []\n",
    "\n",
    "    for batch_index, batch in enumerate(dl):\n",
    "        concept_label = batch['labels'][concept_index]\n",
    "        if not foolbox_model:\n",
    "            imgs = batch['image_norm']\n",
    "            loss_tensor = model(imgs.cuda()).cpu()\n",
    "        else:\n",
    "            imgs = batch['image']\n",
    "            loss_tensor = model(ep.astensor(imgs.cuda())).raw.cpu()\n",
    "\n",
    "        if avg_overall_loss:\n",
    "            avg_loss = torch.mean(loss_tensor)\n",
    "            avg_loss_list.append(avg_loss.item())\n",
    "        else:\n",
    "             for i in range(len(concept_label)):\n",
    "                curr_label = concept_label[i]\n",
    "                curr_loss = loss_tensor[i][curr_label]\n",
    "                avg_loss_list.append(curr_loss.item())\n",
    "        \n",
    "    avg_loss = sum(avg_loss_list)/len(avg_loss_list)\n",
    "    print(avg_loss)\n",
    "    return avg_loss"
   ]
  },
  {
   "cell_type": "code",
   "execution_count": 12,
   "metadata": {},
   "outputs": [],
   "source": [
    "def get_advx_acc_across_iters(advx_batches, df_advx_dict, model, concept, img_key, num_iters=11, len_df=1000):\n",
    "    acc_after_dict = {i: None for i in range(num_iters)}\n",
    "\n",
    "    for i in range(num_iters):\n",
    "        acc_after = np.round(get_advx_acc(advx_batch_list=advx_batches, advx_dict=df_advx_dict,\n",
    "                                          model=model, concept=concept, img_key=img_key, iterations=i) / len_df * 100,\n",
    "                             2)\n",
    "        acc_after_dict[i] = acc_after\n",
    "\n",
    "    return acc_after_dict"
   ]
  },
  {
   "cell_type": "code",
   "execution_count": 13,
   "metadata": {},
   "outputs": [],
   "source": [
    "#given advx_batches\n",
    "def get_gen_acc(advx_batch_list, advx_dict, model, concept='age', img_key='advx'):\n",
    "    acc_after = 0\n",
    "\n",
    "    for batch_index in advx_batch_list:\n",
    "        img_names = advx_batch_list[batch_index]['img_names']\n",
    "        labels = []\n",
    "\n",
    "        for _, img in enumerate(img_names):\n",
    "            labels.append(advx_dict[img][concept])\n",
    "        labels = torch.tensor(labels).cpu()\n",
    "        advs_ = advx_batch_list[batch_index][img_key]\n",
    "        if type(advs_) == list or len(advs_) == 1:\n",
    "            advs_ = advs_[0]\n",
    "\n",
    "        yp_after = model(advs_.cuda()).cpu()\n",
    "        acc_after += (yp_after.max(dim=1)[1] == labels).sum().item()\n",
    "\n",
    "    return acc_after"
   ]
  },
  {
   "cell_type": "code",
   "execution_count": 14,
   "metadata": {},
   "outputs": [],
   "source": [
    "def get_minmax_loss_diff_label(dataloader, model, label_idx, is_max=True):\n",
    "    label_dict = {}\n",
    "    label_dict_groundtruth = {}\n",
    "    \n",
    "    for batch_idx, batch in enumerate(dataloader):\n",
    "        \n",
    "        minmax_label = []\n",
    "        groundtruth_label = []\n",
    "        \n",
    "        concept_label = batch['labels'][label_idx]\n",
    "        imgs = batch['image_norm']\n",
    "        loss_val = model(imgs.cuda()).cpu()\n",
    "        \n",
    "        for i in range(len(concept_label)):\n",
    "            curr_label = concept_label[i]\n",
    "            \n",
    "            label1 = abs(curr_label-2)\n",
    "            loss1 = abs(loss_val[i][curr_label] - loss_val[i][label1])\n",
    "            \n",
    "            label2 = abs(curr_label-1)\n",
    "            loss2 = abs(loss_val[i][curr_label] - loss_val[i][label2])\n",
    "            \n",
    "            #print(f\"label1:{label1}, label2:{label2}, curr_label:{curr_label}\")\n",
    "            #print(f\"loss1:{loss1}\")\n",
    "            #print(f\"loss2:{loss2}\")\n",
    "            \n",
    "            if is_max:\n",
    "                if loss1 > loss2:\n",
    "                    minmax_label.append(label1.item())\n",
    "                else:\n",
    "                    minmax_label.append(label2.item())\n",
    "            else:\n",
    "                if loss1 > loss2:\n",
    "                    minmax_label.append(label2.item())\n",
    "                else:\n",
    "                    minmax_label.append(label1.item())\n",
    "            groundtruth_label.append(curr_label.item())\n",
    "            \n",
    "            #print(f\"groundtruth: {groundtruth_label}\")\n",
    "            #print(f\"max_label:{minmax_label}\")\n",
    "            #sys.exit()\n",
    "\n",
    "        #print(minmax_label)\n",
    "        label_dict[batch_idx] = minmax_label\n",
    "        label_dict_groundtruth[batch_idx] = groundtruth_label\n",
    "\n",
    "    return label_dict, label_dict_groundtruth"
   ]
  },
  {
   "cell_type": "code",
   "execution_count": 15,
   "metadata": {},
   "outputs": [],
   "source": [
    "def custom_advx_wrapper(parent_dir, advx_dict, df_advx, dl_dict, norm='linf', concept_list=None):\n",
    "    if concept_list is None:\n",
    "        concept_list = [('gender', model_gender), ('age', model_age), ('glasses', model_glasses), ('pretty', model_pretty)]\n",
    "    \n",
    "    file_list = sorted(os.listdir(parent_dir))\n",
    "    for curr_file in file_list:\n",
    "        print(f\"File_name: {curr_file}\")\n",
    "        attack_concepts = curr_file.split(\"_\"+norm+\"_\")[-1].split(\"_\")[0]\n",
    "        defend_concepts = curr_file.split(\"_\"+norm+\"_\")[-1].split(\"_\")[1]\n",
    "        print(f\"Custom {norm} norm advx with Attack concepts: {attack_concepts} and Defend concepts: {defend_concepts}\")\n",
    "        \n",
    "        advx_batches = pickle.load(open(os.path.join(parent_dir, curr_file), 'rb'))\n",
    "        dict_X_to_label_mapping = get_x_to_label_mapping(advx_batches, dl_dict)\n",
    "        if norm=='linf':\n",
    "            assert_lp_bound(advx_batches, dict_X_to_label_mapping, eps=0.3, norms='linf')\n",
    "        elif norm=='l2':\n",
    "            assert_lp_bound(advx_batches, dict_X_to_label_mapping, eps=4.0, norms='l2')\n",
    "        else:\n",
    "            raise NotImplementedError\n",
    "        \n",
    "        for concept_tuple in concept_list:\n",
    "            concept = concept_tuple[0]\n",
    "            model = concept_tuple[1]\n",
    "            acc_ = np.round(get_advx_acc(advx_batch_list=advx_batches, advx_dict=advx_dict, model=model, concept=concept, img_key='advx', iterations=None)/len(df_advx)*100, 2)\n",
    "            print(f\"Acc of {concept} concept: {acc_}\")\n",
    "            del acc_ \n",
    "        del advx_batches\n",
    "    \n",
    "        print()"
   ]
  },
  {
   "cell_type": "markdown",
   "metadata": {},
   "source": [
    "## Main"
   ]
  },
  {
   "cell_type": "code",
   "execution_count": 16,
   "metadata": {},
   "outputs": [],
   "source": [
    "#df_advx = pd.read_csv('df_gender_age_UTKFace.csv') # not relevant\n",
    "#df_advx = pd.read_csv('df_utkface_4000.csv') # not relevant\n",
    "#df_advx_1000_dict = get_pdadvx_dict_utkface(df_advx) # not relevent\n",
    "df_advx = pd.read_csv('df_utkface_1000.csv')\n",
    "df_advx_1000_dict = get_pdadvx_dict_utkface(df_advx)"
   ]
  },
  {
   "cell_type": "code",
   "execution_count": 17,
   "metadata": {},
   "outputs": [],
   "source": [
    "df_advx_multi = pd.read_csv('df_utkface_1000_multi.csv')\n",
    "df_advx_1000_dict_multi = get_pdadvx_dict_utkface(df_advx_multi)"
   ]
  },
  {
   "cell_type": "code",
   "execution_count": 18,
   "metadata": {},
   "outputs": [],
   "source": [
    "#generate df_advx multi:\n",
    "\n",
    "#df_age_multi = pickle.load(open(\"df_age_multi.p\", \"rb\"))\n",
    "#df_age_multi.rename(columns = {'image_id':'name'}, inplace = True)\n",
    "#df_advx_multi = pd.merge(df_age_multi, df_advx, how='inner', on=['name'])\n",
    "\n",
    "#df_advx_multi.rename(columns = {'age_x':'age'}, inplace = True)\n",
    "#df_advx_multi.drop(['is_valid', 'age_y'], axis=1, inplace=True)\n",
    "\n",
    "#df_advx_multi.to_csv('df_utkface_1000_multi.csv', index=False)"
   ]
  },
  {
   "cell_type": "code",
   "execution_count": 19,
   "metadata": {},
   "outputs": [
    {
     "data": {
      "image/png": "[encoded data removed]",
      "text/plain": [
       "<Figure size 432x288 with 1 Axes>"
      ]
     },
     "metadata": {
      "needs_background": "light"
     },
     "output_type": "display_data"
    }
   ],
   "source": [
    "(df_advx_multi.age.value_counts()).plot.barh()\n",
    "plt.title(\"advx_samples\");"
   ]
  },
  {
   "cell_type": "code",
   "execution_count": 20,
   "metadata": {},
   "outputs": [
    {
     "name": "stdout",
     "output_type": "stream",
     "text": [
      "cuda:0 {'num_workers': 1, 'pin_memory': True}\n"
     ]
    }
   ],
   "source": [
    "torch.cuda.set_device(0)\n",
    "device, kwargs = set_device(device_name=\"cuda:0\")\n",
    "print(device, kwargs)\n",
    "torch.cuda.empty_cache()"
   ]
  },
  {
   "cell_type": "code",
   "execution_count": 21,
   "metadata": {},
   "outputs": [],
   "source": [
    "model_age_multi, fmodel_age_multi = get_foolbox_model(weights_file='stage-2-rn50-age-multi-utk-final.pth', dev=device, \n",
    "                                          num_classes=3, is_torch=False, preprocess=True, models_dir='models')"
   ]
  },
  {
   "cell_type": "code",
   "execution_count": 22,
   "metadata": {},
   "outputs": [],
   "source": [
    "dataloader_multi = get_dataloader(kwargs_func=kwargs, batch_size=20, pd_advx=df_advx_multi, root_dir='', img_pkl_file=None, is_for_train=False)"
   ]
  },
  {
   "cell_type": "code",
   "execution_count": 23,
   "metadata": {},
   "outputs": [],
   "source": [
    "dataloader_dict_multi_1000 = get_dataloader_dict(data_loader=dataloader_multi)"
   ]
  },
  {
   "cell_type": "code",
   "execution_count": 24,
   "metadata": {},
   "outputs": [],
   "source": [
    "model_age, fmodel_age = get_foolbox_model(weights_file='stage-2-rn50-age-utk.pth', dev=device, \n",
    "                                          num_classes=2, is_torch=False, preprocess=True, models_dir='models')"
   ]
  },
  {
   "cell_type": "code",
   "execution_count": 25,
   "metadata": {},
   "outputs": [],
   "source": [
    "model_gender, fmodel_gender = get_foolbox_model(weights_file='stage-2-rn50-gender-utk.pth', dev=device, \n",
    "                                                num_classes=2, is_torch=False, preprocess=True, models_dir='models')"
   ]
  },
  {
   "cell_type": "code",
   "execution_count": 26,
   "metadata": {},
   "outputs": [],
   "source": [
    "model_ethnicity, fmodel_ethnicity = get_foolbox_model(weights_file='stage-2-rn50-ethnicity-utk.pth', dev=device, \n",
    "                                          num_classes=2, is_torch=False, preprocess=True, models_dir='models')"
   ]
  },
  {
   "cell_type": "code",
   "execution_count": 27,
   "metadata": {},
   "outputs": [],
   "source": [
    "dataloader = get_dataloader(kwargs_func=kwargs, batch_size=20, pd_advx=df_advx, root_dir='', img_pkl_file=None, is_for_train=False)"
   ]
  },
  {
   "cell_type": "code",
   "execution_count": 28,
   "metadata": {},
   "outputs": [],
   "source": [
    "dataloader_dict_1000 = get_dataloader_dict(data_loader=dataloader)"
   ]
  },
  {
   "cell_type": "code",
   "execution_count": 29,
   "metadata": {},
   "outputs": [],
   "source": [
    "# get the conceptDict lst and model_list\n",
    "concept_dict = {'age': 0, 'gender': 1, 'ethnicity': 2}"
   ]
  },
  {
   "cell_type": "raw",
   "metadata": {},
   "source": [
    "dataloader_dict_multi_1000['crop_part1/18_1_0_20170109214216731.jpg.chip.jpg']['labels']"
   ]
  },
  {
   "cell_type": "raw",
   "metadata": {},
   "source": [
    "dataloader_dict_1000['crop_part1/18_1_0_20170109214216731.jpg.chip.jpg']['labels']"
   ]
  },
  {
   "cell_type": "markdown",
   "metadata": {},
   "source": [
    "## Accuracy of original models on sample dataset"
   ]
  },
  {
   "cell_type": "markdown",
   "metadata": {},
   "source": [
    "### Avg loss wrt original image"
   ]
  },
  {
   "cell_type": "code",
   "execution_count": 19,
   "metadata": {
    "scrolled": true
   },
   "outputs": [
    {
     "name": "stdout",
     "output_type": "stream",
     "text": [
      "-0.21577764615416528\n"
     ]
    }
   ],
   "source": [
    "avg_loss_age_multi = get_gen_loss(dataloader_multi, model_age_multi, concept_index=concept_dict['age'], foolbox_model=False, avg_overall_loss=True)"
   ]
  },
  {
   "cell_type": "code",
   "execution_count": 28,
   "metadata": {
    "scrolled": true
   },
   "outputs": [
    {
     "name": "stdout",
     "output_type": "stream",
     "text": [
      "0.03962870952207595\n"
     ]
    }
   ],
   "source": [
    "overall_avg_loss_gender = get_gen_loss(dataloader, model_gender, concept_index=concept_dict['gender'], foolbox_model=False, avg_overall_loss=True)"
   ]
  },
  {
   "cell_type": "code",
   "execution_count": 29,
   "metadata": {
    "scrolled": true
   },
   "outputs": [
    {
     "name": "stdout",
     "output_type": "stream",
     "text": [
      "-0.10775817841291428\n"
     ]
    }
   ],
   "source": [
    "overall_avg_loss_age = get_gen_loss(dataloader, model_age, concept_index=concept_dict['age'], foolbox_model=False, avg_overall_loss=True)"
   ]
  },
  {
   "cell_type": "code",
   "execution_count": 30,
   "metadata": {
    "scrolled": true
   },
   "outputs": [
    {
     "name": "stdout",
     "output_type": "stream",
     "text": [
      "0.026964987302199005\n"
     ]
    }
   ],
   "source": [
    "overall_avg_loss_ethnicity = get_gen_loss(dataloader, model_ethnicity, concept_index=concept_dict['ethnicity'], foolbox_model=False, avg_overall_loss=True)"
   ]
  },
  {
   "cell_type": "markdown",
   "metadata": {},
   "source": [
    "### Avg loss wrt original image (ground truth labels)"
   ]
  },
  {
   "cell_type": "code",
   "execution_count": 20,
   "metadata": {
    "scrolled": true
   },
   "outputs": [
    {
     "name": "stdout",
     "output_type": "stream",
     "text": [
      "4.471319838389754\n"
     ]
    }
   ],
   "source": [
    "gt_avg_loss_age_multi = get_gen_loss(dataloader_multi, model_age_multi, concept_index=concept_dict['age'], foolbox_model=False, avg_overall_loss=False)"
   ]
  },
  {
   "cell_type": "code",
   "execution_count": 36,
   "metadata": {
    "scrolled": true
   },
   "outputs": [
    {
     "name": "stdout",
     "output_type": "stream",
     "text": [
      "6.654510481961071\n"
     ]
    }
   ],
   "source": [
    "gt_avg_loss_gender = get_gen_loss(dataloader, model_gender, concept_index=concept_dict['gender'], foolbox_model=False, avg_overall_loss=False)"
   ]
  },
  {
   "cell_type": "code",
   "execution_count": 37,
   "metadata": {
    "scrolled": true
   },
   "outputs": [
    {
     "name": "stdout",
     "output_type": "stream",
     "text": [
      "3.4775758042149247\n"
     ]
    }
   ],
   "source": [
    "gt_avg_loss_age = get_gen_loss(dataloader, model_age, concept_index=concept_dict['age'], foolbox_model=False, avg_overall_loss=False)"
   ]
  },
  {
   "cell_type": "code",
   "execution_count": 38,
   "metadata": {
    "scrolled": true
   },
   "outputs": [
    {
     "name": "stdout",
     "output_type": "stream",
     "text": [
      "0.026964987302199005\n"
     ]
    }
   ],
   "source": [
    "gt_avg_loss_ethnicity = get_gen_loss(dataloader, model_ethnicity, concept_index=concept_dict['ethnicity'], foolbox_model=False, avg_overall_loss=True)"
   ]
  },
  {
   "cell_type": "code",
   "execution_count": 52,
   "metadata": {},
   "outputs": [],
   "source": []
  },
  {
   "cell_type": "code",
   "execution_count": null,
   "metadata": {},
   "outputs": [],
   "source": [
    "maxlabel_dict_multi, groundtruth_dict_multi = get_minmax_loss_diff_label(dataloader=dataloader_multi, model=model_age_multi, label_idx=concept_dict['age'], is_max=True)"
   ]
  },
  {
   "cell_type": "code",
   "execution_count": 35,
   "metadata": {},
   "outputs": [],
   "source": [
    "pickle.dump(groundtruth_dict_multi, open(\"groundtruthlabel_multi_age.p\", \"wb\"))"
   ]
  },
  {
   "cell_type": "code",
   "execution_count": 11,
   "metadata": {},
   "outputs": [
    {
     "name": "stdout",
     "output_type": "stream",
     "text": [
      "[0, 1, 1, 0, 1, 0, 2, 2, 2, 0, 1, 0, 0, 2, 0, 0, 0, 0, 2, 1] [2, 0, 0, 2, 0, 2, 0, 0, 0, 2, 0, 1, 2, 0, 2, 1, 2, 2, 0, 0]\n"
     ]
    }
   ],
   "source": [
    "for a, b in zip(temp1,temp2):\n",
    "    print(temp1[a], temp2[b])\n",
    "    break"
   ]
  },
  {
   "cell_type": "code",
   "execution_count": 9,
   "metadata": {},
   "outputs": [],
   "source": [
    "temp2 = pickle.load(open(\"maxlabel_multi_age.p\", \"rb\"))"
   ]
  },
  {
   "cell_type": "code",
   "execution_count": 10,
   "metadata": {},
   "outputs": [],
   "source": [
    "temp1 = pickle.load(open(\"groundtruthlabel_multi_age.p\", \"rb\"))"
   ]
  },
  {
   "cell_type": "code",
   "execution_count": 26,
   "metadata": {
    "scrolled": true
   },
   "outputs": [],
   "source": [
    "for k in temp2:\n",
    "    assert(temp2[k]==maxlabel_dict_multi[k])"
   ]
  },
  {
   "cell_type": "code",
   "execution_count": 27,
   "metadata": {},
   "outputs": [],
   "source": [
    "dataloader_multi2 = get_dataloader(kwargs_func=kwargs, batch_size=20, pd_advx=df_advx_multi, root_dir='', img_pkl_file=None, is_for_train=False)"
   ]
  },
  {
   "cell_type": "code",
   "execution_count": 34,
   "metadata": {},
   "outputs": [],
   "source": [
    "for a, b in zip(dataloader_multi, dataloader_multi2):\n",
    "    assert(a['img_name']==b['img_name'])"
   ]
  },
  {
   "cell_type": "code",
   "execution_count": 61,
   "metadata": {},
   "outputs": [],
   "source": [
    "minlabel_dict_multi = get_minmax_loss_diff_label(dataloader=dataloader_multi, model=model_age_multi, label_idx=concept_dict['age'], is_max=False)"
   ]
  },
  {
   "cell_type": "code",
   "execution_count": 62,
   "metadata": {},
   "outputs": [],
   "source": [
    "pickle.dump(maxlabel_dict_multi, open(\"maxlabel_multi_age.p\", \"wb\"))\n",
    "pickle.dump(minlabel_dict_multi, open(\"minlabel_multi_age.p\", \"wb\"))"
   ]
  },
  {
   "cell_type": "code",
   "execution_count": 27,
   "metadata": {},
   "outputs": [],
   "source": [
    "acc_before_multi = get_gen_acc(dataloader_multi, model_age_multi, concept_index=concept_dict['age'])/len(df_advx_multi)*100"
   ]
  },
  {
   "cell_type": "code",
   "execution_count": 29,
   "metadata": {},
   "outputs": [
    {
     "name": "stdout",
     "output_type": "stream",
     "text": [
      "Accuracy of age (multi) before attack: 93.4%\n"
     ]
    }
   ],
   "source": [
    "print(f\"Accuracy of age (multi) before attack: {np.round(acc_before_multi, 2)}%\")"
   ]
  },
  {
   "cell_type": "code",
   "execution_count": 27,
   "metadata": {},
   "outputs": [],
   "source": [
    "acc_before = get_gen_acc(dataloader, model_age, concept_index=concept_dict['age'])/len(df_advx)*100"
   ]
  },
  {
   "cell_type": "code",
   "execution_count": 19,
   "metadata": {},
   "outputs": [
    {
     "name": "stdout",
     "output_type": "stream",
     "text": [
      "Accuracy of age before attack: 97.2%\n"
     ]
    }
   ],
   "source": [
    "print(f\"Accuracy of age before attack: {np.round(acc_before, 2)}%\")"
   ]
  },
  {
   "cell_type": "code",
   "execution_count": 20,
   "metadata": {},
   "outputs": [],
   "source": [
    "acc_before = get_gen_acc(dataloader, model_gender, concept_index=concept_dict['gender'])/len(df_advx)*100"
   ]
  },
  {
   "cell_type": "code",
   "execution_count": 21,
   "metadata": {},
   "outputs": [
    {
     "name": "stdout",
     "output_type": "stream",
     "text": [
      "Accuracy of gender before attack: 99.0%\n"
     ]
    }
   ],
   "source": [
    "print(f\"Accuracy of gender before attack: {np.round(acc_before, 2)}%\")"
   ]
  },
  {
   "cell_type": "code",
   "execution_count": 22,
   "metadata": {},
   "outputs": [],
   "source": [
    "acc_before = get_gen_acc(dataloader, model_ethnicity, concept_index=concept_dict['ethnicity'])/len(df_advx)*100"
   ]
  },
  {
   "cell_type": "code",
   "execution_count": 23,
   "metadata": {},
   "outputs": [
    {
     "name": "stdout",
     "output_type": "stream",
     "text": [
      "Accuracy of ethnicity before attack: 100.0%\n"
     ]
    }
   ],
   "source": [
    "print(f\"Accuracy of ethnicity before attack: {np.round(acc_before, 2)}%\")"
   ]
  },
  {
   "cell_type": "code",
   "execution_count": 30,
   "metadata": {},
   "outputs": [
    {
     "data": {
      "text/plain": [
       "['fb_deepfool',\n",
       " 'avg_losses',\n",
       " '2_attack_1_defend',\n",
       " '1_attack_2_defend',\n",
       " 'weights_hyperparam',\n",
       " 'foolbox',\n",
       " 'fb_fgsm',\n",
       " 'multi',\n",
       " '1_attack_1_defend',\n",
       " 'maybe',\n",
       " 'torchattacks_cw']"
      ]
     },
     "execution_count": 30,
     "metadata": {},
     "output_type": "execute_result"
    }
   ],
   "source": [
    "os.listdir('final_exp_utkface')"
   ]
  },
  {
   "cell_type": "markdown",
   "metadata": {},
   "source": [
    "## Foolbox attacks UTKFace"
   ]
  },
  {
   "cell_type": "markdown",
   "metadata": {},
   "source": [
    "# Hyperparameter tuning"
   ]
  },
  {
   "cell_type": "raw",
   "metadata": {},
   "source": [
    "# NOTE: PLEASE MOVE THESE FILES!!!"
   ]
  },
  {
   "cell_type": "code",
   "execution_count": 19,
   "metadata": {},
   "outputs": [],
   "source": []
  },
  {
   "cell_type": "code",
   "execution_count": 20,
   "metadata": {},
   "outputs": [],
   "source": []
  },
  {
   "cell_type": "code",
   "execution_count": 36,
   "metadata": {},
   "outputs": [
    {
     "name": "stdout",
     "output_type": "stream",
     "text": [
      "Acc of gender concept: {0: 50.6, 1: 50.1, 2: 50.2}\n",
      "Acc of age concept: {0: 50.0, 1: 32.8, 2: 30.0}\n",
      "Acc of ethnicity concept: {0: 60.3, 1: 58.8, 2: 58.7}\n",
      "\n"
     ]
    }
   ],
   "source": [
    "concept_dict = {'age': 0, 'gender': 1, 'ethnicity': 2}\n",
    "concept_list = [('gender', model_gender), ('age', model_age), ('ethnicity', model_ethnicity)]\n",
    "\n",
    "advx_batches = pickle.load(open('final_exp_utkface/foolbox/linf/pgd_fb_linf_age_eps_0.3_utkface_stepsize_40_10001.pkl', 'rb'))\n",
    "dict_X_to_label_mapping = get_x_to_label_mapping(advx_batches, dataloader_dict_1000)\n",
    "    \n",
    "for concept_tuple in concept_list:\n",
    "    concept = concept_tuple[0]\n",
    "    model = concept_tuple[1]\n",
    "    acc_ = get_advx_acc_across_iters(advx_batches=advx_batches, df_advx_dict=df_advx_1000_dict, model=model, concept=concept, \n",
    "                                     img_key='advx', num_iters=3, len_df=len(df_advx))\n",
    "    print(f\"Acc of {concept} concept: {acc_}\")\n",
    "    del acc_ \n",
    "del advx_batches\n",
    "    \n",
    "print()"
   ]
  },
  {
   "cell_type": "code",
   "execution_count": 37,
   "metadata": {},
   "outputs": [
    {
     "name": "stdout",
     "output_type": "stream",
     "text": [
      "Acc of gender concept: {0: 43.0, 1: 5.6, 2: 7.0}\n",
      "Acc of age concept: {0: 50.0, 1: 50.0, 2: 50.0}\n",
      "Acc of ethnicity concept: {0: 60.8, 1: 58.4, 2: 58.5}\n",
      "\n"
     ]
    }
   ],
   "source": [
    "concept_dict = {'age': 0, 'gender': 1, 'ethnicity': 2}\n",
    "concept_list = [('gender', model_gender), ('age', model_age), ('ethnicity', model_ethnicity)]\n",
    "\n",
    "advx_batches = pickle.load(open('final_exp_utkface/foolbox/linf/pgd_fb_linf_gender_eps_0.3_utkface_stepsize_40_10001.pkl', 'rb'))\n",
    "dict_X_to_label_mapping = get_x_to_label_mapping(advx_batches, dataloader_dict_1000)\n",
    "    \n",
    "for concept_tuple in concept_list:\n",
    "    concept = concept_tuple[0]\n",
    "    model = concept_tuple[1]\n",
    "    acc_ = get_advx_acc_across_iters(advx_batches=advx_batches, df_advx_dict=df_advx_1000_dict, model=model, concept=concept, \n",
    "                                     img_key='advx', num_iters=3, len_df=len(df_advx))\n",
    "    print(f\"Acc of {concept} concept: {acc_}\")\n",
    "    del acc_ \n",
    "del advx_batches\n",
    "    \n",
    "print()"
   ]
  },
  {
   "cell_type": "code",
   "execution_count": 52,
   "metadata": {},
   "outputs": [
    {
     "name": "stdout",
     "output_type": "stream",
     "text": [
      "FOOLBOX LINF ADVX EXAMPLES OF ATTACK AGE:\n",
      "Acc of age concept: {0: 85.9, 1: 86.4}\n",
      "Acc of gender concept: {0: 83.7, 1: 66.8}\n",
      "Acc of ethnicity concept: {0: 86.4, 1: 86.4}\n"
     ]
    }
   ],
   "source": [
    "acc_gender = get_advx_acc_across_iters(advx_batches=advx_batches, df_advx_dict=df_advx_1000_dict, model=model_gender, concept='gender', \n",
    "                                       img_key='advx', num_iters=2, len_df=len(df_advx))\n",
    "acc_age = get_advx_acc_across_iters(advx_batches=advx_batches, df_advx_dict=df_advx_1000_dict, model=model_age, concept='age', \n",
    "                                    img_key='advx', num_iters=2, len_df=len(df_advx))\n",
    "acc_ethnicity = get_advx_acc_across_iters(advx_batches=advx_batches, df_advx_dict=df_advx_1000_dict, model=model_ethnicity, concept='ethnicity', \n",
    "                                        img_key='advx', num_iters=2, len_df=len(df_advx))\n",
    "\n",
    "print(\"FOOLBOX LINF ADVX EXAMPLES OF ATTACK AGE:\")\n",
    "print(f\"Acc of age concept: {acc_age}\")\n",
    "print(f\"Acc of gender concept: {acc_gender}\")\n",
    "print(f\"Acc of ethnicity concept: {acc_ethnicity}\")"
   ]
  },
  {
   "cell_type": "code",
   "execution_count": 53,
   "metadata": {},
   "outputs": [],
   "source": [
    "del acc_age, acc_ethnicity, acc_gender, advx_batches\n",
    "torch.cuda.empty_cache()"
   ]
  },
  {
   "cell_type": "code",
   "execution_count": 54,
   "metadata": {},
   "outputs": [],
   "source": [
    "advx_batches = pickle.load(open('final_exp_celeba/pgd_fb_linf_gender_eps_0.05_step_40_iter_100.pkl', 'rb'))\n",
    "dict_X_to_label_mapping = get_x_to_label_mapping(advx_batches, dataloader_dict_1000)"
   ]
  },
  {
   "cell_type": "code",
   "execution_count": 55,
   "metadata": {},
   "outputs": [
    {
     "name": "stdout",
     "output_type": "stream",
     "text": [
      "FOOLBOX LINF ADVX EXAMPLES OF ATTACK AGE:\n",
      "Acc of age concept: {0: 75.2, 1: 74.7}\n",
      "Acc of gender concept: {0: 73.8, 1: 15.2}\n",
      "Acc of ethnicity concept: {0: 76.5, 1: 71.6}\n"
     ]
    }
   ],
   "source": [
    "acc_gender = get_advx_acc_across_iters(advx_batches=advx_batches, df_advx_dict=df_advx_1000_dict, model=model_gender, concept='gender', \n",
    "                                       img_key='advx', num_iters=2, len_df=len(df_advx))\n",
    "acc_age = get_advx_acc_across_iters(advx_batches=advx_batches, df_advx_dict=df_advx_1000_dict, model=model_age, concept='age', \n",
    "                                    img_key='advx', num_iters=2, len_df=len(df_advx))\n",
    "acc_ethnicity = get_advx_acc_across_iters(advx_batches=advx_batches, df_advx_dict=df_advx_1000_dict, model=model_ethnicity, concept='ethnicity', \n",
    "                                        img_key='advx', num_iters=2, len_df=len(df_advx))\n",
    "\n",
    "print(\"FOOLBOX LINF ADVX EXAMPLES OF ATTACK AGE:\")\n",
    "print(f\"Acc of age concept: {acc_age}\")\n",
    "print(f\"Acc of gender concept: {acc_gender}\")\n",
    "print(f\"Acc of ethnicity concept: {acc_ethnicity}\")"
   ]
  },
  {
   "cell_type": "code",
   "execution_count": 56,
   "metadata": {},
   "outputs": [],
   "source": [
    "del acc_age, acc_ethnicity, acc_gender, advx_batches\n",
    "torch.cuda.empty_cache()"
   ]
  },
  {
   "cell_type": "code",
   "execution_count": 57,
   "metadata": {},
   "outputs": [],
   "source": [
    "advx_batches = pickle.load(open('final_exp_celeba/pgd_fb_linf_gender_eps_0.09_step_40_iter_100.pkl', 'rb'))\n",
    "dict_X_to_label_mapping = get_x_to_label_mapping(advx_batches, dataloader_dict_1000)"
   ]
  },
  {
   "cell_type": "code",
   "execution_count": 58,
   "metadata": {},
   "outputs": [
    {
     "name": "stdout",
     "output_type": "stream",
     "text": [
      "FOOLBOX LINF ADVX EXAMPLES OF ATTACK AGE:\n",
      "Acc of age concept: {0: 58.7, 1: 59.4}\n",
      "Acc of gender concept: {0: 55.7, 1: 2.5}\n",
      "Acc of ethnicity concept: {0: 68.2, 1: 63.8}\n"
     ]
    }
   ],
   "source": [
    "acc_gender = get_advx_acc_across_iters(advx_batches=advx_batches, df_advx_dict=df_advx_1000_dict, model=model_gender, concept='gender', \n",
    "                                       img_key='advx', num_iters=2, len_df=len(df_advx))\n",
    "acc_age = get_advx_acc_across_iters(advx_batches=advx_batches, df_advx_dict=df_advx_1000_dict, model=model_age, concept='age', \n",
    "                                    img_key='advx', num_iters=2, len_df=len(df_advx))\n",
    "acc_ethnicity = get_advx_acc_across_iters(advx_batches=advx_batches, df_advx_dict=df_advx_1000_dict, model=model_ethnicity, concept='ethnicity', \n",
    "                                        img_key='advx', num_iters=2, len_df=len(df_advx))\n",
    "\n",
    "print(\"FOOLBOX LINF ADVX EXAMPLES OF ATTACK AGE:\")\n",
    "print(f\"Acc of age concept: {acc_age}\")\n",
    "print(f\"Acc of gender concept: {acc_gender}\")\n",
    "print(f\"Acc of ethnicity concept: {acc_ethnicity}\")"
   ]
  },
  {
   "cell_type": "code",
   "execution_count": 59,
   "metadata": {},
   "outputs": [],
   "source": [
    "del acc_age, acc_ethnicity, acc_gender, advx_batches\n",
    "torch.cuda.empty_cache()"
   ]
  },
  {
   "cell_type": "code",
   "execution_count": 60,
   "metadata": {},
   "outputs": [],
   "source": [
    "advx_batches = pickle.load(open('final_exp_celeba/pgd_fb_linf_gender_eps_0.3_step_40_iter_100.pkl', 'rb'))\n",
    "dict_X_to_label_mapping = get_x_to_label_mapping(advx_batches, dataloader_dict_1000)"
   ]
  },
  {
   "cell_type": "code",
   "execution_count": 61,
   "metadata": {},
   "outputs": [
    {
     "name": "stdout",
     "output_type": "stream",
     "text": [
      "FOOLBOX LINF ADVX EXAMPLES OF ATTACK AGE:\n",
      "Acc of age concept: {0: 50.0, 1: 50.0}\n",
      "Acc of gender concept: {0: 26.9, 1: 5.2}\n",
      "Acc of ethnicity concept: {0: 58.7, 1: 57.6}\n"
     ]
    }
   ],
   "source": [
    "acc_gender = get_advx_acc_across_iters(advx_batches=advx_batches, df_advx_dict=df_advx_1000_dict, model=model_gender, concept='gender', \n",
    "                                       img_key='advx', num_iters=2, len_df=len(df_advx))\n",
    "acc_age = get_advx_acc_across_iters(advx_batches=advx_batches, df_advx_dict=df_advx_1000_dict, model=model_age, concept='age', \n",
    "                                    img_key='advx', num_iters=2, len_df=len(df_advx))\n",
    "acc_ethnicity = get_advx_acc_across_iters(advx_batches=advx_batches, df_advx_dict=df_advx_1000_dict, model=model_ethnicity, concept='ethnicity', \n",
    "                                        img_key='advx', num_iters=2, len_df=len(df_advx))\n",
    "\n",
    "print(\"FOOLBOX LINF ADVX EXAMPLES OF ATTACK AGE:\")\n",
    "print(f\"Acc of age concept: {acc_age}\")\n",
    "print(f\"Acc of gender concept: {acc_gender}\")\n",
    "print(f\"Acc of ethnicity concept: {acc_ethnicity}\")"
   ]
  },
  {
   "cell_type": "code",
   "execution_count": 62,
   "metadata": {},
   "outputs": [],
   "source": [
    "del acc_age, acc_ethnicity, acc_gender, advx_batches\n",
    "torch.cuda.empty_cache()"
   ]
  },
  {
   "cell_type": "code",
   "execution_count": 44,
   "metadata": {},
   "outputs": [],
   "source": [
    "advx_batches = pickle.load(open('final_exp_celeba/pgd_fb_linf_gender_eps_0.7_step_40_iter_100.pkl', 'rb'))\n",
    "dict_X_to_label_mapping = get_x_to_label_mapping(advx_batches, dataloader_dict_1000)"
   ]
  },
  {
   "cell_type": "code",
   "execution_count": 45,
   "metadata": {},
   "outputs": [
    {
     "name": "stdout",
     "output_type": "stream",
     "text": [
      "FOOLBOX LINF ADVX EXAMPLES OF ATTACK AGE:\n",
      "Acc of age concept: {0: 50.0, 1: 50.0}\n",
      "Acc of gender concept: {0: 50.0, 1: 50.0}\n",
      "Acc of ethnicity concept: {0: 43.0, 1: 43.0}\n"
     ]
    }
   ],
   "source": [
    "acc_gender = get_advx_acc_across_iters(advx_batches=advx_batches, df_advx_dict=df_advx_1000_dict, model=model_gender, concept='gender', \n",
    "                                       img_key='advx', num_iters=2, len_df=len(df_advx))\n",
    "acc_age = get_advx_acc_across_iters(advx_batches=advx_batches, df_advx_dict=df_advx_1000_dict, model=model_age, concept='age', \n",
    "                                    img_key='advx', num_iters=2, len_df=len(df_advx))\n",
    "acc_ethnicity = get_advx_acc_across_iters(advx_batches=advx_batches, df_advx_dict=df_advx_1000_dict, model=model_ethnicity, concept='ethnicity', \n",
    "                                        img_key='advx', num_iters=2, len_df=len(df_advx))\n",
    "\n",
    "print(\"FOOLBOX LINF ADVX EXAMPLES OF ATTACK AGE:\")\n",
    "print(f\"Acc of age concept: {acc_age}\")\n",
    "print(f\"Acc of gender concept: {acc_gender}\")\n",
    "print(f\"Acc of ethnicity concept: {acc_ethnicity}\")"
   ]
  },
  {
   "cell_type": "code",
   "execution_count": 46,
   "metadata": {},
   "outputs": [],
   "source": [
    "del advx_batches, acc_age, acc_ethnicity, acc_gender\n",
    "torch.cuda.empty_cache()"
   ]
  },
  {
   "cell_type": "code",
   "execution_count": 63,
   "metadata": {},
   "outputs": [],
   "source": [
    "advx_batches = pickle.load(open('final_exp_celeba/pgd_fb_l2_gender_eps_0.09_step_40_iter_100.pkl', 'rb'))\n",
    "dict_X_to_label_mapping = get_x_to_label_mapping(advx_batches, dataloader_dict_1000)"
   ]
  },
  {
   "cell_type": "code",
   "execution_count": 64,
   "metadata": {},
   "outputs": [
    {
     "name": "stdout",
     "output_type": "stream",
     "text": [
      "FOOLBOX LINF ADVX EXAMPLES OF ATTACK AGE:\n",
      "Acc of age concept: {0: 86.7, 1: 86.6}\n",
      "Acc of gender concept: {0: 84.7, 1: 82.4}\n",
      "Acc of ethnicity concept: {0: 87.7, 1: 87.7}\n"
     ]
    }
   ],
   "source": [
    "acc_gender = get_advx_acc_across_iters(advx_batches=advx_batches, df_advx_dict=df_advx_1000_dict, model=model_gender, concept='gender', \n",
    "                                       img_key='advx', num_iters=2, len_df=len(df_advx))\n",
    "acc_age = get_advx_acc_across_iters(advx_batches=advx_batches, df_advx_dict=df_advx_1000_dict, model=model_age, concept='age', \n",
    "                                    img_key='advx', num_iters=2, len_df=len(df_advx))\n",
    "acc_ethnicity = get_advx_acc_across_iters(advx_batches=advx_batches, df_advx_dict=df_advx_1000_dict, model=model_ethnicity, concept='ethnicity', \n",
    "                                        img_key='advx', num_iters=2, len_df=len(df_advx))\n",
    "\n",
    "print(\"FOOLBOX LINF ADVX EXAMPLES OF ATTACK AGE:\")\n",
    "print(f\"Acc of age concept: {acc_age}\")\n",
    "print(f\"Acc of gender concept: {acc_gender}\")\n",
    "print(f\"Acc of ethnicity concept: {acc_ethnicity}\")"
   ]
  },
  {
   "cell_type": "code",
   "execution_count": 65,
   "metadata": {},
   "outputs": [],
   "source": [
    "del acc_age, acc_ethnicity, acc_gender, advx_batches\n",
    "torch.cuda.empty_cache()"
   ]
  },
  {
   "cell_type": "code",
   "execution_count": 66,
   "metadata": {},
   "outputs": [],
   "source": [
    "advx_batches = pickle.load(open('final_exp_celeba/pgd_fb_l2_gender_eps_0.3_step_40_iter_100.pkl', 'rb'))\n",
    "dict_X_to_label_mapping = get_x_to_label_mapping(advx_batches, dataloader_dict_1000)"
   ]
  },
  {
   "cell_type": "code",
   "execution_count": 67,
   "metadata": {},
   "outputs": [
    {
     "name": "stdout",
     "output_type": "stream",
     "text": [
      "FOOLBOX LINF ADVX EXAMPLES OF ATTACK AGE:\n",
      "Acc of age concept: {0: 86.7, 1: 86.7}\n",
      "Acc of gender concept: {0: 83.8, 1: 77.1}\n",
      "Acc of ethnicity concept: {0: 87.7, 1: 87.8}\n"
     ]
    }
   ],
   "source": [
    "acc_gender = get_advx_acc_across_iters(advx_batches=advx_batches, df_advx_dict=df_advx_1000_dict, model=model_gender, concept='gender', \n",
    "                                       img_key='advx', num_iters=2, len_df=len(df_advx))\n",
    "acc_age = get_advx_acc_across_iters(advx_batches=advx_batches, df_advx_dict=df_advx_1000_dict, model=model_age, concept='age', \n",
    "                                    img_key='advx', num_iters=2, len_df=len(df_advx))\n",
    "acc_ethnicity = get_advx_acc_across_iters(advx_batches=advx_batches, df_advx_dict=df_advx_1000_dict, model=model_ethnicity, concept='ethnicity', \n",
    "                                        img_key='advx', num_iters=2, len_df=len(df_advx))\n",
    "\n",
    "print(\"FOOLBOX LINF ADVX EXAMPLES OF ATTACK AGE:\")\n",
    "print(f\"Acc of age concept: {acc_age}\")\n",
    "print(f\"Acc of gender concept: {acc_gender}\")\n",
    "print(f\"Acc of ethnicity concept: {acc_ethnicity}\")"
   ]
  },
  {
   "cell_type": "code",
   "execution_count": 68,
   "metadata": {},
   "outputs": [],
   "source": [
    "del acc_age, acc_ethnicity, acc_gender, advx_batches\n",
    "torch.cuda.empty_cache()"
   ]
  },
  {
   "cell_type": "code",
   "execution_count": 69,
   "metadata": {},
   "outputs": [],
   "source": [
    "advx_batches = pickle.load(open('final_exp_celeba/pgd_fb_l2_gender_eps_0.7_step_40_iter_100.pkl', 'rb'))\n",
    "dict_X_to_label_mapping = get_x_to_label_mapping(advx_batches, dataloader_dict_1000)"
   ]
  },
  {
   "cell_type": "code",
   "execution_count": 70,
   "metadata": {},
   "outputs": [
    {
     "name": "stdout",
     "output_type": "stream",
     "text": [
      "FOOLBOX LINF ADVX EXAMPLES OF ATTACK AGE:\n",
      "Acc of age concept: {0: 86.6, 1: 86.5}\n",
      "Acc of gender concept: {0: 81.1, 1: 72.6}\n",
      "Acc of ethnicity concept: {0: 87.4, 1: 87.2}\n"
     ]
    }
   ],
   "source": [
    "acc_gender = get_advx_acc_across_iters(advx_batches=advx_batches, df_advx_dict=df_advx_1000_dict, model=model_gender, concept='gender', \n",
    "                                       img_key='advx', num_iters=2, len_df=len(df_advx))\n",
    "acc_age = get_advx_acc_across_iters(advx_batches=advx_batches, df_advx_dict=df_advx_1000_dict, model=model_age, concept='age', \n",
    "                                    img_key='advx', num_iters=2, len_df=len(df_advx))\n",
    "acc_ethnicity = get_advx_acc_across_iters(advx_batches=advx_batches, df_advx_dict=df_advx_1000_dict, model=model_ethnicity, concept='ethnicity', \n",
    "                                        img_key='advx', num_iters=2, len_df=len(df_advx))\n",
    "\n",
    "print(\"FOOLBOX LINF ADVX EXAMPLES OF ATTACK AGE:\")\n",
    "print(f\"Acc of age concept: {acc_age}\")\n",
    "print(f\"Acc of gender concept: {acc_gender}\")\n",
    "print(f\"Acc of ethnicity concept: {acc_ethnicity}\")"
   ]
  },
  {
   "cell_type": "code",
   "execution_count": 71,
   "metadata": {},
   "outputs": [],
   "source": [
    "del acc_age, acc_ethnicity, acc_gender, advx_batches\n",
    "torch.cuda.empty_cache()"
   ]
  },
  {
   "cell_type": "code",
   "execution_count": 31,
   "metadata": {},
   "outputs": [],
   "source": [
    "advx_batches = pickle.load(open('final_exp_celeba/pgd_fb_l2_eps_1_step_40_iter_100.pkl', 'rb'))\n",
    "dict_X_to_label_mapping = get_x_to_label_mapping(advx_batches, dataloader_dict_1000)"
   ]
  },
  {
   "cell_type": "code",
   "execution_count": 32,
   "metadata": {},
   "outputs": [
    {
     "name": "stdout",
     "output_type": "stream",
     "text": [
      "FOOLBOX LINF ADVX EXAMPLES OF ATTACK AGE:\n",
      "Acc of age concept: {0: 86.4, 1: 86.1}\n",
      "Acc of gender concept: {0: 71.3, 1: 69.1}\n",
      "Acc of ethnicity concept: {0: 87.0, 1: 86.3}\n"
     ]
    }
   ],
   "source": [
    "acc_gender = get_advx_acc_across_iters(advx_batches=advx_batches, df_advx_dict=df_advx_1000_dict, model=model_gender, concept='gender', \n",
    "                                       img_key='advx', num_iters=2, len_df=len(df_advx))\n",
    "acc_age = get_advx_acc_across_iters(advx_batches=advx_batches, df_advx_dict=df_advx_1000_dict, model=model_age, concept='age', \n",
    "                                    img_key='advx', num_iters=2, len_df=len(df_advx))\n",
    "acc_ethnicity = get_advx_acc_across_iters(advx_batches=advx_batches, df_advx_dict=df_advx_1000_dict, model=model_ethnicity, concept='ethnicity', \n",
    "                                        img_key='advx', num_iters=2, len_df=len(df_advx))\n",
    "\n",
    "print(\"FOOLBOX LINF ADVX EXAMPLES OF ATTACK AGE:\")\n",
    "print(f\"Acc of age concept: {acc_age}\")\n",
    "print(f\"Acc of gender concept: {acc_gender}\")\n",
    "print(f\"Acc of ethnicity concept: {acc_ethnicity}\")"
   ]
  },
  {
   "cell_type": "code",
   "execution_count": 33,
   "metadata": {},
   "outputs": [],
   "source": [
    "del acc_age, acc_ethnicity, acc_gender, advx_batches\n",
    "torch.cuda.empty_cache()"
   ]
  },
  {
   "cell_type": "code",
   "execution_count": 41,
   "metadata": {},
   "outputs": [],
   "source": [
    "advx_batches = pickle.load(open('final_exp_celeba/pgd_fb_l2_gender_eps_4_step_40_iter_100.pkl', 'rb'))\n",
    "dict_X_to_label_mapping = get_x_to_label_mapping(advx_batches, dataloader_dict_1000)"
   ]
  },
  {
   "cell_type": "code",
   "execution_count": 42,
   "metadata": {},
   "outputs": [
    {
     "name": "stdout",
     "output_type": "stream",
     "text": [
      "FOOLBOX LINF ADVX EXAMPLES OF ATTACK AGE:\n",
      "Acc of age concept: {0: 81.1, 1: 81.2}\n",
      "Acc of gender concept: {0: 46.3, 1: 40.4}\n",
      "Acc of ethnicity concept: {0: 82.1, 1: 81.2}\n"
     ]
    }
   ],
   "source": [
    "acc_gender = get_advx_acc_across_iters(advx_batches=advx_batches, df_advx_dict=df_advx_1000_dict, model=model_gender, concept='gender', \n",
    "                                       img_key='advx', num_iters=2, len_df=len(df_advx))\n",
    "acc_age = get_advx_acc_across_iters(advx_batches=advx_batches, df_advx_dict=df_advx_1000_dict, model=model_age, concept='age', \n",
    "                                    img_key='advx', num_iters=2, len_df=len(df_advx))\n",
    "acc_ethnicity = get_advx_acc_across_iters(advx_batches=advx_batches, df_advx_dict=df_advx_1000_dict, model=model_ethnicity, concept='ethnicity', \n",
    "                                        img_key='advx', num_iters=2, len_df=len(df_advx))\n",
    "\n",
    "print(\"FOOLBOX LINF ADVX EXAMPLES OF ATTACK AGE:\")\n",
    "print(f\"Acc of age concept: {acc_age}\")\n",
    "print(f\"Acc of gender concept: {acc_gender}\")\n",
    "print(f\"Acc of ethnicity concept: {acc_ethnicity}\")"
   ]
  },
  {
   "cell_type": "code",
   "execution_count": 43,
   "metadata": {},
   "outputs": [],
   "source": [
    "del acc_age, acc_ethnicity, acc_gender, advx_batches\n",
    "torch.cuda.empty_cache()"
   ]
  },
  {
   "cell_type": "markdown",
   "metadata": {},
   "source": [
    "# Other Attacks"
   ]
  },
  {
   "cell_type": "code",
   "execution_count": 40,
   "metadata": {},
   "outputs": [],
   "source": [
    "advx_batches = pickle.load(open('final_exp_utkface/deepfool_fb_linf_gender_eps_0.3_step_40_iter_500.pkl', 'rb'))\n",
    "dict_X_to_label_mapping = get_x_to_label_mapping(advx_batches, dataloader_dict_1000)"
   ]
  },
  {
   "cell_type": "code",
   "execution_count": 41,
   "metadata": {},
   "outputs": [
    {
     "name": "stdout",
     "output_type": "stream",
     "text": [
      "FOOLBOX LINF ADVX EXAMPLES OF ATTACK GENDER:\n",
      "Acc of age concept: {0: 86.7}\n",
      "Acc of gender concept: {0: 82.1}\n",
      "Acc of ethnicity concept: {0: 87.6}\n"
     ]
    }
   ],
   "source": [
    "acc_gender = get_advx_acc_across_iters(advx_batches=advx_batches, df_advx_dict=df_advx_1000_dict, model=model_gender, concept='gender', \n",
    "                                       img_key='advx', num_iters=1, len_df=len(df_advx))\n",
    "acc_age = get_advx_acc_across_iters(advx_batches=advx_batches, df_advx_dict=df_advx_1000_dict, model=model_age, concept='age', \n",
    "                                    img_key='advx', num_iters=1, len_df=len(df_advx))\n",
    "acc_ethnicity = get_advx_acc_across_iters(advx_batches=advx_batches, df_advx_dict=df_advx_1000_dict, model=model_ethnicity, concept='ethnicity', \n",
    "                                        img_key='advx', num_iters=1, len_df=len(df_advx))\n",
    "\n",
    "print(\"FOOLBOX LINF ADVX EXAMPLES OF ATTACK GENDER:\")\n",
    "print(f\"Acc of age concept: {acc_age}\")\n",
    "print(f\"Acc of gender concept: {acc_gender}\")\n",
    "print(f\"Acc of ethnicity concept: {acc_ethnicity}\")"
   ]
  },
  {
   "cell_type": "code",
   "execution_count": 42,
   "metadata": {},
   "outputs": [],
   "source": [
    "advx_batches = pickle.load(open('final_exp_utkface/deepfool_fb_linf_age_eps_0.3_step_40_iter_500.pkl', 'rb'))\n",
    "dict_X_to_label_mapping = get_x_to_label_mapping(advx_batches, dataloader_dict_1000)"
   ]
  },
  {
   "cell_type": "code",
   "execution_count": 43,
   "metadata": {},
   "outputs": [
    {
     "name": "stdout",
     "output_type": "stream",
     "text": [
      "FOOLBOX LINF ADVX EXAMPLES OF ATTACK AGE:\n",
      "Acc of age concept: {0: 85.0}\n",
      "Acc of gender concept: {0: 84.6}\n",
      "Acc of ethnicity concept: {0: 87.6}\n"
     ]
    }
   ],
   "source": [
    "acc_gender = get_advx_acc_across_iters(advx_batches=advx_batches, df_advx_dict=df_advx_1000_dict, model=model_gender, concept='gender', \n",
    "                                       img_key='advx', num_iters=1, len_df=len(df_advx))\n",
    "acc_age = get_advx_acc_across_iters(advx_batches=advx_batches, df_advx_dict=df_advx_1000_dict, model=model_age, concept='age', \n",
    "                                    img_key='advx', num_iters=1, len_df=len(df_advx))\n",
    "acc_ethnicity = get_advx_acc_across_iters(advx_batches=advx_batches, df_advx_dict=df_advx_1000_dict, model=model_ethnicity, concept='ethnicity', \n",
    "                                        img_key='advx', num_iters=1, len_df=len(df_advx))\n",
    "\n",
    "print(\"FOOLBOX LINF ADVX EXAMPLES OF ATTACK AGE:\")\n",
    "print(f\"Acc of age concept: {acc_age}\")\n",
    "print(f\"Acc of gender concept: {acc_gender}\")\n",
    "print(f\"Acc of ethnicity concept: {acc_ethnicity}\")"
   ]
  },
  {
   "cell_type": "code",
   "execution_count": 44,
   "metadata": {},
   "outputs": [],
   "source": [
    "advx_batches = pickle.load(open('final_exp_utkface/deepfool_fb_l2_gender_eps_4_step_40_iter_500.pkl', 'rb'))\n",
    "dict_X_to_label_mapping = get_x_to_label_mapping(advx_batches, dataloader_dict_1000)"
   ]
  },
  {
   "cell_type": "code",
   "execution_count": 45,
   "metadata": {},
   "outputs": [
    {
     "name": "stdout",
     "output_type": "stream",
     "text": [
      "FOOLBOX L2 ADVX EXAMPLES OF ATTACK GENDER:\n",
      "Acc of age concept: {0: 86.7}\n",
      "Acc of gender concept: {0: 82.2}\n",
      "Acc of ethnicity concept: {0: 87.7}\n"
     ]
    }
   ],
   "source": [
    "acc_gender = get_advx_acc_across_iters(advx_batches=advx_batches, df_advx_dict=df_advx_1000_dict, model=model_gender, concept='gender', \n",
    "                                       img_key='advx', num_iters=1, len_df=len(df_advx))\n",
    "acc_age = get_advx_acc_across_iters(advx_batches=advx_batches, df_advx_dict=df_advx_1000_dict, model=model_age, concept='age', \n",
    "                                    img_key='advx', num_iters=1, len_df=len(df_advx))\n",
    "acc_ethnicity = get_advx_acc_across_iters(advx_batches=advx_batches, df_advx_dict=df_advx_1000_dict, model=model_ethnicity, concept='ethnicity', \n",
    "                                        img_key='advx', num_iters=1, len_df=len(df_advx))\n",
    "\n",
    "print(\"FOOLBOX L2 ADVX EXAMPLES OF ATTACK GENDER:\")\n",
    "print(f\"Acc of age concept: {acc_age}\")\n",
    "print(f\"Acc of gender concept: {acc_gender}\")\n",
    "print(f\"Acc of ethnicity concept: {acc_ethnicity}\")"
   ]
  },
  {
   "cell_type": "code",
   "execution_count": 46,
   "metadata": {},
   "outputs": [],
   "source": [
    "advx_batches = pickle.load(open('final_exp_utkface/deepfool_fb_l2_age_eps_4_step_40_iter_500.pkl', 'rb'))\n",
    "dict_X_to_label_mapping = get_x_to_label_mapping(advx_batches, dataloader_dict_1000)"
   ]
  },
  {
   "cell_type": "code",
   "execution_count": 47,
   "metadata": {},
   "outputs": [
    {
     "name": "stdout",
     "output_type": "stream",
     "text": [
      "FOOLBOX LINF ADVX EXAMPLES OF ATTACK AGE:\n",
      "Acc of age concept: {0: 85.1}\n",
      "Acc of gender concept: {0: 84.7}\n",
      "Acc of ethnicity concept: {0: 87.7}\n"
     ]
    }
   ],
   "source": [
    "acc_gender = get_advx_acc_across_iters(advx_batches=advx_batches, df_advx_dict=df_advx_1000_dict, model=model_gender, concept='gender', \n",
    "                                       img_key='advx', num_iters=1, len_df=len(df_advx))\n",
    "acc_age = get_advx_acc_across_iters(advx_batches=advx_batches, df_advx_dict=df_advx_1000_dict, model=model_age, concept='age', \n",
    "                                    img_key='advx', num_iters=1, len_df=len(df_advx))\n",
    "acc_ethnicity = get_advx_acc_across_iters(advx_batches=advx_batches, df_advx_dict=df_advx_1000_dict, model=model_ethnicity, concept='ethnicity', \n",
    "                                        img_key='advx', num_iters=1, len_df=len(df_advx))\n",
    "\n",
    "print(\"FOOLBOX LINF ADVX EXAMPLES OF ATTACK AGE:\")\n",
    "print(f\"Acc of age concept: {acc_age}\")\n",
    "print(f\"Acc of gender concept: {acc_gender}\")\n",
    "print(f\"Acc of ethnicity concept: {acc_ethnicity}\")"
   ]
  },
  {
   "cell_type": "code",
   "execution_count": null,
   "metadata": {},
   "outputs": [],
   "source": []
  },
  {
   "cell_type": "code",
   "execution_count": 31,
   "metadata": {},
   "outputs": [],
   "source": [
    "advx_batches = pickle.load(open('final_exp_utkface/fgsm_fb_l2_age_eps_4_40step.pkl', 'rb'))\n",
    "dict_X_to_label_mapping = get_x_to_label_mapping(advx_batches, dataloader_dict_1000)"
   ]
  },
  {
   "cell_type": "code",
   "execution_count": 33,
   "metadata": {},
   "outputs": [
    {
     "name": "stdout",
     "output_type": "stream",
     "text": [
      "FOOLBOX L2 ADVX EXAMPLES OF ATTACK AGE:\n",
      "Acc of age concept: {0: 46.0}\n",
      "Acc of gender concept: {0: 82.1}\n",
      "Acc of ethnicity concept: {0: 81.9}\n"
     ]
    }
   ],
   "source": [
    "acc_gender = get_advx_acc_across_iters(advx_batches=advx_batches, df_advx_dict=df_advx_1000_dict, model=model_gender, concept='gender', \n",
    "                                       img_key='advx', num_iters=1, len_df=len(df_advx))\n",
    "acc_age = get_advx_acc_across_iters(advx_batches=advx_batches, df_advx_dict=df_advx_1000_dict, model=model_age, concept='age', \n",
    "                                    img_key='advx', num_iters=1, len_df=len(df_advx))\n",
    "acc_ethnicity = get_advx_acc_across_iters(advx_batches=advx_batches, df_advx_dict=df_advx_1000_dict, model=model_ethnicity, concept='ethnicity', \n",
    "                                        img_key='advx', num_iters=1, len_df=len(df_advx))\n",
    "\n",
    "print(\"FOOLBOX L2 ADVX EXAMPLES OF ATTACK AGE:\")\n",
    "print(f\"Acc of age concept: {acc_age}\")\n",
    "print(f\"Acc of gender concept: {acc_gender}\")\n",
    "print(f\"Acc of ethnicity concept: {acc_ethnicity}\")"
   ]
  },
  {
   "cell_type": "code",
   "execution_count": 34,
   "metadata": {},
   "outputs": [],
   "source": [
    "advx_batches = pickle.load(open('final_exp_utkface/fgsm_fb_linf_age_eps_0.3_40step.pkl', 'rb'))\n",
    "dict_X_to_label_mapping = get_x_to_label_mapping(advx_batches, dataloader_dict_1000)"
   ]
  },
  {
   "cell_type": "code",
   "execution_count": 35,
   "metadata": {},
   "outputs": [
    {
     "name": "stdout",
     "output_type": "stream",
     "text": [
      "FOOLBOX LINF ADVX EXAMPLES OF ATTACK AGE:\n",
      "Acc of age concept: {0: 50.0}\n",
      "Acc of gender concept: {0: 50.0}\n",
      "Acc of ethnicity concept: {0: 53.9}\n"
     ]
    }
   ],
   "source": [
    "acc_gender = get_advx_acc_across_iters(advx_batches=advx_batches, df_advx_dict=df_advx_1000_dict, model=model_gender, concept='gender', \n",
    "                                       img_key='advx', num_iters=1, len_df=len(df_advx))\n",
    "acc_age = get_advx_acc_across_iters(advx_batches=advx_batches, df_advx_dict=df_advx_1000_dict, model=model_age, concept='age', \n",
    "                                    img_key='advx', num_iters=1, len_df=len(df_advx))\n",
    "acc_ethnicity = get_advx_acc_across_iters(advx_batches=advx_batches, df_advx_dict=df_advx_1000_dict, model=model_ethnicity, concept='ethnicity', \n",
    "                                        img_key='advx', num_iters=1, len_df=len(df_advx))\n",
    "\n",
    "print(\"FOOLBOX LINF ADVX EXAMPLES OF ATTACK AGE:\")\n",
    "print(f\"Acc of age concept: {acc_age}\")\n",
    "print(f\"Acc of gender concept: {acc_gender}\")\n",
    "print(f\"Acc of ethnicity concept: {acc_ethnicity}\")"
   ]
  },
  {
   "cell_type": "code",
   "execution_count": 36,
   "metadata": {},
   "outputs": [],
   "source": [
    "advx_batches = pickle.load(open('final_exp_utkface/fgsm_fb_l2_gender_eps_4_40step.pkl', 'rb'))\n",
    "dict_X_to_label_mapping = get_x_to_label_mapping(advx_batches, dataloader_dict_1000)"
   ]
  },
  {
   "cell_type": "code",
   "execution_count": 37,
   "metadata": {},
   "outputs": [
    {
     "name": "stdout",
     "output_type": "stream",
     "text": [
      "FOOLBOX L2 ADVX EXAMPLES OF ATTACK GENDER:\n",
      "Acc of age concept: {0: 82.3}\n",
      "Acc of gender concept: {0: 47.8}\n",
      "Acc of ethnicity concept: {0: 82.7}\n"
     ]
    }
   ],
   "source": [
    "acc_gender = get_advx_acc_across_iters(advx_batches=advx_batches, df_advx_dict=df_advx_1000_dict, model=model_gender, concept='gender', \n",
    "                                       img_key='advx', num_iters=1, len_df=len(df_advx))\n",
    "acc_age = get_advx_acc_across_iters(advx_batches=advx_batches, df_advx_dict=df_advx_1000_dict, model=model_age, concept='age', \n",
    "                                    img_key='advx', num_iters=1, len_df=len(df_advx))\n",
    "acc_ethnicity = get_advx_acc_across_iters(advx_batches=advx_batches, df_advx_dict=df_advx_1000_dict, model=model_ethnicity, concept='ethnicity', \n",
    "                                        img_key='advx', num_iters=1, len_df=len(df_advx))\n",
    "\n",
    "print(\"FOOLBOX L2 ADVX EXAMPLES OF ATTACK GENDER:\")\n",
    "print(f\"Acc of age concept: {acc_age}\")\n",
    "print(f\"Acc of gender concept: {acc_gender}\")\n",
    "print(f\"Acc of ethnicity concept: {acc_ethnicity}\")"
   ]
  },
  {
   "cell_type": "code",
   "execution_count": 38,
   "metadata": {},
   "outputs": [],
   "source": [
    "advx_batches = pickle.load(open('final_exp_utkface/fgsm_fb_linf_gender_eps_0.3_40step.pkl', 'rb'))\n",
    "dict_X_to_label_mapping = get_x_to_label_mapping(advx_batches, dataloader_dict_1000)"
   ]
  },
  {
   "cell_type": "code",
   "execution_count": 39,
   "metadata": {},
   "outputs": [
    {
     "name": "stdout",
     "output_type": "stream",
     "text": [
      "FOOLBOX L2 ADVX EXAMPLES OF ATTACK AGE:\n",
      "Acc of age concept: {0: 50.0}\n",
      "Acc of gender concept: {0: 47.1}\n",
      "Acc of ethnicity concept: {0: 57.0}\n"
     ]
    }
   ],
   "source": [
    "acc_gender = get_advx_acc_across_iters(advx_batches=advx_batches, df_advx_dict=df_advx_1000_dict, model=model_gender, concept='gender', \n",
    "                                       img_key='advx', num_iters=1, len_df=len(df_advx))\n",
    "acc_age = get_advx_acc_across_iters(advx_batches=advx_batches, df_advx_dict=df_advx_1000_dict, model=model_age, concept='age', \n",
    "                                    img_key='advx', num_iters=1, len_df=len(df_advx))\n",
    "acc_ethnicity = get_advx_acc_across_iters(advx_batches=advx_batches, df_advx_dict=df_advx_1000_dict, model=model_ethnicity, concept='ethnicity', \n",
    "                                        img_key='advx', num_iters=1, len_df=len(df_advx))\n",
    "\n",
    "print(\"FOOLBOX L2 ADVX EXAMPLES OF ATTACK AGE:\")\n",
    "print(f\"Acc of age concept: {acc_age}\")\n",
    "print(f\"Acc of gender concept: {acc_gender}\")\n",
    "print(f\"Acc of ethnicity concept: {acc_ethnicity}\")"
   ]
  },
  {
   "cell_type": "code",
   "execution_count": null,
   "metadata": {},
   "outputs": [],
   "source": []
  },
  {
   "cell_type": "code",
   "execution_count": 26,
   "metadata": {},
   "outputs": [],
   "source": [
    "advx_batches = pickle.load(open('final_exp_utkface/cw_fb_l2_age_eps_4_iter_500.pkl', 'rb'))\n",
    "dict_X_to_label_mapping = get_x_to_label_mapping(advx_batches, dataloader_dict_1000)\n",
    "#assert_lp_bound(advx_batches, dict_X_to_label_mapping, eps=4, norms='l2')"
   ]
  },
  {
   "cell_type": "code",
   "execution_count": 27,
   "metadata": {},
   "outputs": [
    {
     "name": "stdout",
     "output_type": "stream",
     "text": [
      "FOOLBOX L2 ADVX EXAMPLES OF ATTACK AGE:\n",
      "Acc of age concept: {0: 84.9, 1: 84.9}\n",
      "Acc of gender concept: {0: 84.3, 1: 84.3}\n",
      "Acc of ethnicity concept: {0: 87.6, 1: 87.6}\n"
     ]
    }
   ],
   "source": [
    "acc_gender = get_advx_acc_across_iters(advx_batches=advx_batches, df_advx_dict=df_advx_1000_dict, model=model_gender, concept='gender', \n",
    "                                       img_key='advx', num_iters=2, len_df=len(df_advx))\n",
    "acc_age = get_advx_acc_across_iters(advx_batches=advx_batches, df_advx_dict=df_advx_1000_dict, model=model_age, concept='age', \n",
    "                                    img_key='advx', num_iters=2, len_df=len(df_advx))\n",
    "acc_ethnicity = get_advx_acc_across_iters(advx_batches=advx_batches, df_advx_dict=df_advx_1000_dict, model=model_ethnicity, concept='ethnicity', \n",
    "                                        img_key='advx', num_iters=2, len_df=len(df_advx))\n",
    "\n",
    "print(\"FOOLBOX L2 ADVX EXAMPLES OF ATTACK AGE:\")\n",
    "print(f\"Acc of age concept: {acc_age}\")\n",
    "print(f\"Acc of gender concept: {acc_gender}\")\n",
    "print(f\"Acc of ethnicity concept: {acc_ethnicity}\")"
   ]
  },
  {
   "cell_type": "code",
   "execution_count": 28,
   "metadata": {},
   "outputs": [],
   "source": [
    "advx_batches = pickle.load(open('final_exp_utkface/cw_fb_l2_gender_eps_4_iter_500.pkl', 'rb'))\n",
    "dict_X_to_label_mapping = get_x_to_label_mapping(advx_batches, dataloader_dict_1000)\n",
    "#assert_lp_bound(advx_batches, dict_X_to_label_mapping, eps=4, norms='l2')"
   ]
  },
  {
   "cell_type": "code",
   "execution_count": 29,
   "metadata": {},
   "outputs": [
    {
     "name": "stdout",
     "output_type": "stream",
     "text": [
      "FOOLBOX L2 ADVX EXAMPLES OF ATTACK GENDER:\n",
      "Acc of age concept: {0: 86.6, 1: 86.6}\n",
      "Acc of gender concept: {0: 81.8, 1: 81.8}\n",
      "Acc of ethnicity concept: {0: 87.8, 1: 87.8}\n"
     ]
    }
   ],
   "source": [
    "acc_gender = get_advx_acc_across_iters(advx_batches=advx_batches, df_advx_dict=df_advx_1000_dict, model=model_gender, concept='gender', \n",
    "                                       img_key='advx', num_iters=2, len_df=len(df_advx))\n",
    "acc_age = get_advx_acc_across_iters(advx_batches=advx_batches, df_advx_dict=df_advx_1000_dict, model=model_age, concept='age', \n",
    "                                    img_key='advx', num_iters=2, len_df=len(df_advx))\n",
    "acc_ethnicity = get_advx_acc_across_iters(advx_batches=advx_batches, df_advx_dict=df_advx_1000_dict, model=model_ethnicity, concept='ethnicity', \n",
    "                                        img_key='advx', num_iters=2, len_df=len(df_advx))\n",
    "\n",
    "print(\"FOOLBOX L2 ADVX EXAMPLES OF ATTACK GENDER:\")\n",
    "print(f\"Acc of age concept: {acc_age}\")\n",
    "print(f\"Acc of gender concept: {acc_gender}\")\n",
    "print(f\"Acc of ethnicity concept: {acc_ethnicity}\")"
   ]
  },
  {
   "cell_type": "code",
   "execution_count": null,
   "metadata": {},
   "outputs": [],
   "source": []
  },
  {
   "cell_type": "code",
   "execution_count": 33,
   "metadata": {},
   "outputs": [],
   "source": [
    "advx_batches = pickle.load(open('final_exp_utkface/cw_fb_l2_age_eps_4_step_40_iter_150.pkl', 'rb'))\n",
    "dict_X_to_label_mapping = get_x_to_label_mapping(advx_batches, dataloader_dict_1000)\n",
    "#assert_lp_bound(advx_batches, dict_X_to_label_mapping, eps=4, norms='l2')"
   ]
  },
  {
   "cell_type": "code",
   "execution_count": 35,
   "metadata": {},
   "outputs": [
    {
     "name": "stdout",
     "output_type": "stream",
     "text": [
      "FOOLBOX LINF ADVX EXAMPLES OF ATTACK AGE:\n",
      "Acc of age concept: {0: 84.1, 1: 84.1}\n",
      "Acc of gender concept: {0: 84.4, 1: 84.4}\n",
      "Acc of ethnicity concept: {0: 87.5, 1: 87.5}\n"
     ]
    }
   ],
   "source": [
    "acc_gender = get_advx_acc_across_iters(advx_batches=advx_batches, df_advx_dict=df_advx_1000_dict, model=model_gender, concept='gender', \n",
    "                                       img_key='advx', num_iters=2, len_df=len(df_advx))\n",
    "acc_age = get_advx_acc_across_iters(advx_batches=advx_batches, df_advx_dict=df_advx_1000_dict, model=model_age, concept='age', \n",
    "                                    img_key='advx', num_iters=2, len_df=len(df_advx))\n",
    "acc_ethnicity = get_advx_acc_across_iters(advx_batches=advx_batches, df_advx_dict=df_advx_1000_dict, model=model_ethnicity, concept='ethnicity', \n",
    "                                        img_key='advx', num_iters=2, len_df=len(df_advx))\n",
    "\n",
    "print(\"FOOLBOX LINF ADVX EXAMPLES OF ATTACK AGE:\")\n",
    "print(f\"Acc of age concept: {acc_age}\")\n",
    "print(f\"Acc of gender concept: {acc_gender}\")\n",
    "print(f\"Acc of ethnicity concept: {acc_ethnicity}\")"
   ]
  },
  {
   "cell_type": "code",
   "execution_count": 33,
   "metadata": {},
   "outputs": [],
   "source": [
    "advx_batches = pickle.load(open('final_exp_utkface/cw_fb_l2_gender_eps_4_step_40_iter_150.pkl', 'rb'))\n",
    "dict_X_to_label_mapping = get_x_to_label_mapping(advx_batches, dataloader_dict_1000)\n",
    "#assert_lp_bound(advx_batches, dict_X_to_label_mapping, eps=4, norms='l2')"
   ]
  },
  {
   "cell_type": "code",
   "execution_count": 38,
   "metadata": {},
   "outputs": [
    {
     "name": "stdout",
     "output_type": "stream",
     "text": [
      "FOOLBOX LINF ADVX EXAMPLES OF ATTACK AGE:\n",
      "Acc of age concept: {0: 84.1, 1: 84.1}\n",
      "Acc of gender concept: {0: 84.4, 1: 84.4}\n",
      "Acc of ethnicity concept: {0: 87.5, 1: 87.5}\n"
     ]
    }
   ],
   "source": [
    "acc_gender = get_advx_acc_across_iters(advx_batches=advx_batches, df_advx_dict=df_advx_1000_dict, model=model_gender, concept='gender', \n",
    "                                       img_key='advx', num_iters=2, len_df=len(df_advx))\n",
    "acc_age = get_advx_acc_across_iters(advx_batches=advx_batches, df_advx_dict=df_advx_1000_dict, model=model_age, concept='age', \n",
    "                                    img_key='advx', num_iters=2, len_df=len(df_advx))\n",
    "acc_ethnicity = get_advx_acc_across_iters(advx_batches=advx_batches, df_advx_dict=df_advx_1000_dict, model=model_ethnicity, concept='ethnicity', \n",
    "                                        img_key='advx', num_iters=2, len_df=len(df_advx))\n",
    "\n",
    "print(\"FOOLBOX LINF ADVX EXAMPLES OF ATTACK AGE:\")\n",
    "print(f\"Acc of age concept: {acc_age}\")\n",
    "print(f\"Acc of gender concept: {acc_gender}\")\n",
    "print(f\"Acc of ethnicity concept: {acc_ethnicity}\")"
   ]
  },
  {
   "cell_type": "code",
   "execution_count": 39,
   "metadata": {},
   "outputs": [],
   "source": [
    "del acc_age, acc_ethnicity, acc_gender, advx_batches\n",
    "torch.cuda.empty_cache()"
   ]
  },
  {
   "cell_type": "markdown",
   "metadata": {},
   "source": [
    "#### Attack Gender"
   ]
  },
  {
   "cell_type": "code",
   "execution_count": 141,
   "metadata": {},
   "outputs": [],
   "source": [
    "advx_batches = pickle.load(open('final_exp_utkface/foolbox/pgd_fb_linf_gender_eps_0.3_utkface_stepsize_40_10001.pkl', 'rb'))\n",
    "dict_X_to_label_mapping = get_x_to_label_mapping(advx_batches, dataloader_dict_1000)\n",
    "assert_lp_bound(advx_batches, dict_X_to_label_mapping, eps=0.3, norms='linf')"
   ]
  },
  {
   "cell_type": "code",
   "execution_count": 142,
   "metadata": {},
   "outputs": [],
   "source": [
    "acc_gender = get_advx_acc_across_iters(advx_batches=advx_batches, df_advx_dict=df_advx_1000_dict, model=model_gender, concept='gender', img_key='advx', num_iters=3, len_df=len(df_advx))\n",
    "acc_age = get_advx_acc_across_iters(advx_batches=advx_batches, df_advx_dict=df_advx_1000_dict, model=model_age, concept='age', img_key='advx', num_iters=3, len_df=len(df_advx))\n",
    "acc_ethnicity = get_advx_acc_across_iters(advx_batches=advx_batches, df_advx_dict=df_advx_1000_dict, model=model_ethnicity, concept='ethnicity', img_key='advx', num_iters=3, len_df=len(df_advx))"
   ]
  },
  {
   "cell_type": "code",
   "execution_count": 143,
   "metadata": {},
   "outputs": [
    {
     "name": "stdout",
     "output_type": "stream",
     "text": [
      "FOOLBOX LINF ADVX EXAMPLES OF ATTACK GENDER:\n",
      "Acc of age concept: {0: 50.0, 1: 50.0, 2: 50.0}\n",
      "Acc of gender concept: {0: 43.0, 1: 5.6, 2: 7.0}\n",
      "Acc of ethncity concept: {0: 60.8, 1: 58.4, 2: 58.5}\n"
     ]
    }
   ],
   "source": [
    "print(\"FOOLBOX LINF ADVX EXAMPLES OF ATTACK GENDER:\")\n",
    "print(f\"Acc of age concept: {acc_age}\")\n",
    "print(f\"Acc of gender concept: {acc_gender}\")\n",
    "print(f\"Acc of ethncity concept: {acc_ethnicity}\")"
   ]
  },
  {
   "cell_type": "code",
   "execution_count": 144,
   "metadata": {},
   "outputs": [],
   "source": [
    "del acc_age, acc_ethnicity, acc_gender, advx_batches\n",
    "torch.cuda.empty_cache()"
   ]
  },
  {
   "cell_type": "markdown",
   "metadata": {},
   "source": [
    "#### Attack Age"
   ]
  },
  {
   "cell_type": "code",
   "execution_count": 145,
   "metadata": {},
   "outputs": [],
   "source": [
    "advx_batches = pickle.load(open('final_exp_utkface/foolbox/pgd_fb_linf_age_eps_0.3_utkface_stepsize_40_10001.pkl', 'rb'))\n",
    "dict_X_to_label_mapping = get_x_to_label_mapping(advx_batches, dataloader_dict_1000)\n",
    "assert_lp_bound(advx_batches, dict_X_to_label_mapping, eps=0.3, norms='linf')"
   ]
  },
  {
   "cell_type": "code",
   "execution_count": 146,
   "metadata": {},
   "outputs": [],
   "source": [
    "acc_gender = get_advx_acc_across_iters(advx_batches=advx_batches, df_advx_dict=df_advx_1000_dict, model=model_gender, concept='gender', img_key='advx', num_iters=3, len_df=len(df_advx))\n",
    "acc_age = get_advx_acc_across_iters(advx_batches=advx_batches, df_advx_dict=df_advx_1000_dict, model=model_age, concept='age', img_key='advx', num_iters=3, len_df=len(df_advx))\n",
    "acc_ethnicity = get_advx_acc_across_iters(advx_batches=advx_batches, df_advx_dict=df_advx_1000_dict, model=model_ethnicity, concept='ethnicity', img_key='advx', num_iters=3, len_df=len(df_advx))"
   ]
  },
  {
   "cell_type": "code",
   "execution_count": 147,
   "metadata": {},
   "outputs": [
    {
     "name": "stdout",
     "output_type": "stream",
     "text": [
      "FOOLBOX LINF ADVX EXAMPLES OF ATTACK AGE:\n",
      "Acc of age concept: {0: 50.0, 1: 32.8, 2: 30.0}\n",
      "Acc of gender concept: {0: 50.6, 1: 50.1, 2: 50.2}\n",
      "Acc of ethncity concept: {0: 60.3, 1: 58.8, 2: 58.7}\n"
     ]
    }
   ],
   "source": [
    "print(\"FOOLBOX LINF ADVX EXAMPLES OF ATTACK AGE:\")\n",
    "print(f\"Acc of age concept: {acc_age}\")\n",
    "print(f\"Acc of gender concept: {acc_gender}\")\n",
    "print(f\"Acc of ethncity concept: {acc_ethnicity}\")"
   ]
  },
  {
   "cell_type": "code",
   "execution_count": 148,
   "metadata": {},
   "outputs": [],
   "source": [
    "del acc_age, acc_ethnicity, acc_gender, advx_batches\n",
    "torch.cuda.empty_cache()"
   ]
  },
  {
   "cell_type": "markdown",
   "metadata": {},
   "source": [
    "### L2 foolbox attacks UTKFace"
   ]
  },
  {
   "cell_type": "markdown",
   "metadata": {},
   "source": [
    "#### Attack Gender"
   ]
  },
  {
   "cell_type": "code",
   "execution_count": 42,
   "metadata": {},
   "outputs": [],
   "source": [
    "advx_batches = pickle.load(open('final_exp_utkface/foolbox/pgd_fb_l2_gender_eps_4_utkface_stepsize_40_10001.pkl', 'rb'))\n",
    "dict_X_to_label_mapping = get_x_to_label_mapping(advx_batches, dataloader_dict_1000)\n",
    "assert_lp_bound(advx_batches, dict_X_to_label_mapping, eps=4, norms='l2')"
   ]
  },
  {
   "cell_type": "code",
   "execution_count": 43,
   "metadata": {},
   "outputs": [],
   "source": [
    "acc_gender = get_advx_acc_across_iters(advx_batches=advx_batches, df_advx_dict=df_advx_1000_dict, model=model_gender, concept='gender', img_key='advx', num_iters=3, len_df=len(df_advx))\n",
    "acc_age = get_advx_acc_across_iters(advx_batches=advx_batches, df_advx_dict=df_advx_1000_dict, model=model_age, concept='age', img_key='advx', num_iters=3, len_df=len(df_advx))\n",
    "acc_ethnicity = get_advx_acc_across_iters(advx_batches=advx_batches, df_advx_dict=df_advx_1000_dict, model=model_ethnicity, concept='ethnicity', img_key='advx', num_iters=3, len_df=len(df_advx))"
   ]
  },
  {
   "cell_type": "code",
   "execution_count": 44,
   "metadata": {},
   "outputs": [
    {
     "name": "stdout",
     "output_type": "stream",
     "text": [
      "FOOLBOX L2 ADVX EXAMPLES OF ATTACK GENDER:\n",
      "Acc of age concept: {0: 82.3, 1: 82.0, 2: 82.7}\n",
      "Acc of gender concept: {0: 49.7, 1: 31.1, 2: 33.8}\n",
      "Acc of ethncity concept: {0: 83.1, 1: 79.7, 2: 80.0}\n"
     ]
    }
   ],
   "source": [
    "print(\"FOOLBOX L2 ADVX EXAMPLES OF ATTACK GENDER:\")\n",
    "print(f\"Acc of age concept: {acc_age}\")\n",
    "print(f\"Acc of gender concept: {acc_gender}\")\n",
    "print(f\"Acc of ethncity concept: {acc_ethnicity}\")"
   ]
  },
  {
   "cell_type": "code",
   "execution_count": 45,
   "metadata": {},
   "outputs": [],
   "source": [
    "del acc_age, acc_ethnicity, acc_gender, advx_batches\n",
    "torch.cuda.empty_cache()"
   ]
  },
  {
   "cell_type": "markdown",
   "metadata": {},
   "source": [
    "#### Attack Age"
   ]
  },
  {
   "cell_type": "code",
   "execution_count": 46,
   "metadata": {},
   "outputs": [],
   "source": [
    "advx_batches = pickle.load(open('final_exp_utkface/foolbox/pgd_fb_l2_age_eps_4_utkface_stepsize_40_10001.pkl', 'rb'))\n",
    "dict_X_to_label_mapping = get_x_to_label_mapping(advx_batches, dataloader_dict_1000)\n",
    "assert_lp_bound(advx_batches, dict_X_to_label_mapping, eps=4, norms='l2')"
   ]
  },
  {
   "cell_type": "code",
   "execution_count": 47,
   "metadata": {},
   "outputs": [],
   "source": [
    "acc_gender = get_advx_acc_across_iters(advx_batches=advx_batches, df_advx_dict=df_advx_1000_dict, model=model_gender, concept='gender', img_key='advx', num_iters=3, len_df=len(df_advx))\n",
    "acc_age = get_advx_acc_across_iters(advx_batches=advx_batches, df_advx_dict=df_advx_1000_dict, model=model_age, concept='age', img_key='advx', num_iters=3, len_df=len(df_advx))\n",
    "acc_ethnicity = get_advx_acc_across_iters(advx_batches=advx_batches, df_advx_dict=df_advx_1000_dict, model=model_ethnicity, concept='ethnicity', img_key='advx', num_iters=3, len_df=len(df_advx))"
   ]
  },
  {
   "cell_type": "code",
   "execution_count": 48,
   "metadata": {},
   "outputs": [
    {
     "name": "stdout",
     "output_type": "stream",
     "text": [
      "FOOLBOX L2 ADVX EXAMPLES OF ATTACK AGE:\n",
      "Acc of age concept: {0: 46.9, 1: 40.8, 2: 40.3}\n",
      "Acc of gender concept: {0: 82.7, 1: 80.9, 2: 80.4}\n",
      "Acc of ethncity concept: {0: 83.0, 1: 79.0, 2: 79.2}\n"
     ]
    }
   ],
   "source": [
    "print(\"FOOLBOX L2 ADVX EXAMPLES OF ATTACK AGE:\")\n",
    "print(f\"Acc of age concept: {acc_age}\")\n",
    "print(f\"Acc of gender concept: {acc_gender}\")\n",
    "print(f\"Acc of ethncity concept: {acc_ethnicity}\")"
   ]
  },
  {
   "cell_type": "code",
   "execution_count": 49,
   "metadata": {},
   "outputs": [],
   "source": [
    "del acc_age, acc_ethnicity, acc_gender, advx_batches\n",
    "torch.cuda.empty_cache()"
   ]
  },
  {
   "cell_type": "code",
   "execution_count": 32,
   "metadata": {},
   "outputs": [],
   "source": [
    "concept_dict = {'age': 0, 'gender': 1, 'ethnicity': 2}\n",
    "concept_list = [('gender', model_gender), ('age', model_age), ('ethnicity', model_ethnicity)]"
   ]
  },
  {
   "cell_type": "markdown",
   "metadata": {},
   "source": [
    "## Foolbox Multi-Class L2 and Linf PGD attack"
   ]
  },
  {
   "cell_type": "code",
   "execution_count": 49,
   "metadata": {},
   "outputs": [],
   "source": [
    "def get_advx_acc_multi_pgd(advx_batch_list, advx_dict, model, concept='age', img_key='advx', iterations=None):\n",
    "    acc_after = 0\n",
    "\n",
    "    for batch_index in advx_batch_list:\n",
    "        img_names = advx_batch_list[batch_index]['img_names']\n",
    "        labels = []\n",
    "\n",
    "        for _, img in enumerate(img_names):\n",
    "            labels.append(advx_dict[img][concept])\n",
    "            #print(labels)\n",
    "        labels = torch.tensor(labels).cpu()\n",
    "        \n",
    "        if iterations is not None:\n",
    "            advs_ = advx_batch_list[batch_index][img_key][iterations]\n",
    "        else:\n",
    "            advs_ = advx_batch_list[batch_index][img_key]\n",
    "\n",
    "        yp_after = model(advs_.cuda()).cpu()\n",
    "        acc_after += (yp_after.max(dim=1)[1] == labels).sum().item()\n",
    "\n",
    "    return np.round(acc_after/len(advx_dict)*100, 3)"
   ]
  },
  {
   "cell_type": "code",
   "execution_count": 28,
   "metadata": {
    "scrolled": true
   },
   "outputs": [
    {
     "data": {
      "text/plain": [
       "['pgd_multi_linf_age_eps_0.3_utk_201.pkl',\n",
       " 'pgd_multi_l2_age_eps_4_utk_201.pkl',\n",
       " 'pgd_multi_linf_age_eps_0.3_utk.pkl',\n",
       " 'pgd_multi_l2_age_eps_4_utk.pkl']"
      ]
     },
     "execution_count": 28,
     "metadata": {},
     "output_type": "execute_result"
    }
   ],
   "source": [
    "os.listdir('final_exp_utkface/multi/pgd')"
   ]
  },
  {
   "cell_type": "code",
   "execution_count": 26,
   "metadata": {
    "scrolled": false
   },
   "outputs": [
    {
     "data": {
      "text/plain": [
       "['pgd_multi_maxloss_l2_gender_age_eps_4_utk.pkl',\n",
       " 'pgd_multi_maxloss_l2_gender_ageEthnicity_eps_4_utk.pkl',\n",
       " 'pgd_multi_maxloss_l2_genderEthnicity_age_eps_4_utk.pkl',\n",
       " 'pgd_multi_maxloss_l2_age_genderEthnicity_eps_4_utk.pkl',\n",
       " 'pgd_multi_maxloss_l2_age_gender_eps_4_utk.pkl']"
      ]
     },
     "execution_count": 26,
     "metadata": {},
     "output_type": "execute_result"
    }
   ],
   "source": [
    "os.listdir('final_exp_utkface/multi/l2')"
   ]
  },
  {
   "cell_type": "code",
   "execution_count": 27,
   "metadata": {},
   "outputs": [
    {
     "data": {
      "text/plain": [
       "['pgd_multi_maxloss_linf_age_gender_eps_0.3_utk.pkl',\n",
       " 'pgd_multi_maxloss_linf_gender_ageEthnicity_eps_0.3_utk.pkl',\n",
       " 'pgd_multi_maxloss_linf_genderEthnicity_age_eps_0.3_utk.pkl',\n",
       " 'pgd_multi_maxloss_linf_gender_age_eps_0.3_utk.pkl',\n",
       " 'pgd_multi_maxloss_linf_age_genderEthnicity_eps_0.3_utk.pkl']"
      ]
     },
     "execution_count": 27,
     "metadata": {},
     "output_type": "execute_result"
    }
   ],
   "source": [
    "os.listdir('final_exp_utkface/multi/linf')"
   ]
  },
  {
   "cell_type": "markdown",
   "metadata": {},
   "source": [
    "### L2"
   ]
  },
  {
   "cell_type": "code",
   "execution_count": 53,
   "metadata": {},
   "outputs": [],
   "source": [
    "advx_batches = pickle.load(open('final_exp_utkface/multi/pgd/pgd_multi_l2_age_eps_4_utk.pkl', 'rb'))\n",
    "dict_X_to_label_mapping = get_x_to_label_mapping(advx_batches, dataloader_dict_multi_1000)\n",
    "assert_lp_bound(advx_batches, dict_X_to_label_mapping, eps=0.3, norms='linf')"
   ]
  },
  {
   "cell_type": "code",
   "execution_count": 54,
   "metadata": {},
   "outputs": [
    {
     "name": "stdout",
     "output_type": "stream",
     "text": [
      "Acc of gender concept: 81.1\n",
      "Acc of age concept: 8.2\n",
      "Acc of ethnicity concept: 79.3\n",
      "\n"
     ]
    }
   ],
   "source": [
    "concept_list = [('gender', model_gender), ('age', model_age_multi), ('ethnicity', model_ethnicity)]\n",
    "    \n",
    "for concept_tuple in concept_list:\n",
    "    concept = concept_tuple[0]\n",
    "    model = concept_tuple[1]\n",
    "    acc_ = get_advx_acc_multi_pgd(advx_batch_list=advx_batches, advx_dict=df_advx_1000_dict_multi, model=model, concept=concept, \n",
    "                                     img_key='advx', iterations=None)\n",
    "    print(f\"Acc of {concept} concept: {acc_}\")\n",
    "    del acc_ \n",
    "del advx_batches\n",
    "    \n",
    "print()"
   ]
  },
  {
   "cell_type": "code",
   "execution_count": 50,
   "metadata": {},
   "outputs": [],
   "source": [
    "advx_batches = pickle.load(open('final_exp_utkface/multi/pgd/pgd_multi_l2_age_eps_4_utk_201.pkl', 'rb'))\n",
    "dict_X_to_label_mapping = get_x_to_label_mapping(advx_batches, dataloader_dict_multi_1000)\n",
    "assert_lp_bound(advx_batches, dict_X_to_label_mapping, eps=0.3, norms='linf')"
   ]
  },
  {
   "cell_type": "code",
   "execution_count": 51,
   "metadata": {},
   "outputs": [
    {
     "name": "stdout",
     "output_type": "stream",
     "text": [
      "Acc of gender concept: 81.3\n",
      "Acc of age concept: 8.0\n",
      "Acc of ethnicity concept: 80.8\n",
      "\n"
     ]
    }
   ],
   "source": [
    "concept_list = [('gender', model_gender), ('age', model_age_multi), ('ethnicity', model_ethnicity)]\n",
    "    \n",
    "for concept_tuple in concept_list:\n",
    "    concept = concept_tuple[0]\n",
    "    model = concept_tuple[1]\n",
    "    acc_ = get_advx_acc_multi_pgd(advx_batch_list=advx_batches, advx_dict=df_advx_1000_dict_multi, model=model, concept=concept, \n",
    "                                     img_key='advx', iterations=None)\n",
    "    print(f\"Acc of {concept} concept: {acc_}\")\n",
    "    del acc_ \n",
    "del advx_batches\n",
    "    \n",
    "print()"
   ]
  },
  {
   "cell_type": "code",
   "execution_count": 57,
   "metadata": {},
   "outputs": [],
   "source": [
    "advx_batches = pickle.load(open('final_exp_utkface/foolbox/l2/pgd_fb_l2_gender_eps_4_utkface_stepsize_40_10001.pkl', 'rb'))\n",
    "dict_X_to_label_mapping = get_x_to_label_mapping(advx_batches, dataloader_dict_multi_1000)\n",
    "assert_lp_bound(advx_batches, dict_X_to_label_mapping, eps=4, norms='l2')"
   ]
  },
  {
   "cell_type": "code",
   "execution_count": 58,
   "metadata": {},
   "outputs": [],
   "source": [
    "acc_age_multi = get_advx_acc_across_iters(advx_batches=advx_batches, df_advx_dict=df_advx_1000_dict_multi, model=model_age_multi, concept='age', img_key='advx', num_iters=3, len_df=len(df_advx_multi))"
   ]
  },
  {
   "cell_type": "code",
   "execution_count": 59,
   "metadata": {},
   "outputs": [
    {
     "name": "stdout",
     "output_type": "stream",
     "text": [
      "FOOLBOX L2 ADVX EXAMPLES OF ATTACK GENDER:\n",
      "Acc of age concept multi: {0: 82.7, 1: 82.4, 2: 83.5}\n"
     ]
    }
   ],
   "source": [
    "print(\"FOOLBOX L2 ADVX EXAMPLES OF ATTACK GENDER:\")\n",
    "print(f\"Acc of age concept multi: {acc_age_multi}\")"
   ]
  },
  {
   "cell_type": "markdown",
   "metadata": {},
   "source": [
    "### Linf"
   ]
  },
  {
   "cell_type": "code",
   "execution_count": 55,
   "metadata": {},
   "outputs": [],
   "source": [
    "advx_batches = pickle.load(open('final_exp_utkface/multi/pgd/pgd_multi_linf_age_eps_0.3_utk_201.pkl', 'rb'))\n",
    "dict_X_to_label_mapping = get_x_to_label_mapping(advx_batches, dataloader_dict_multi_1000)\n",
    "assert_lp_bound(advx_batches, dict_X_to_label_mapping, eps=0.3, norms='linf')"
   ]
  },
  {
   "cell_type": "code",
   "execution_count": 56,
   "metadata": {},
   "outputs": [
    {
     "name": "stdout",
     "output_type": "stream",
     "text": [
      "Acc of gender concept: 49.9\n",
      "Acc of age concept: 12.8\n",
      "Acc of ethnicity concept: 55.5\n",
      "\n"
     ]
    }
   ],
   "source": [
    "concept_list = [('gender', model_gender), ('age', model_age_multi), ('ethnicity', model_ethnicity)]\n",
    "    \n",
    "for concept_tuple in concept_list:\n",
    "    concept = concept_tuple[0]\n",
    "    model = concept_tuple[1]\n",
    "    acc_ = get_advx_acc_multi_pgd(advx_batch_list=advx_batches, advx_dict=df_advx_1000_dict_multi, model=model, concept=concept, \n",
    "                                     img_key='advx', iterations=None)\n",
    "    print(f\"Acc of {concept} concept: {acc_}\")\n",
    "    del acc_ \n",
    "del advx_batches\n",
    "    \n",
    "print()"
   ]
  },
  {
   "cell_type": "code",
   "execution_count": 45,
   "metadata": {},
   "outputs": [],
   "source": [
    "advx_batches = pickle.load(open('final_exp_utkface/multi/pgd/pgd_multi_linf_age_eps_0.3_utk.pkl', 'rb'))\n",
    "dict_X_to_label_mapping = get_x_to_label_mapping(advx_batches, dataloader_dict_multi_1000)\n",
    "assert_lp_bound(advx_batches, dict_X_to_label_mapping, eps=0.3, norms='linf')"
   ]
  },
  {
   "cell_type": "code",
   "execution_count": 46,
   "metadata": {},
   "outputs": [
    {
     "name": "stdout",
     "output_type": "stream",
     "text": [
      "Acc of gender concept: 50.0\n",
      "Acc of age concept: 0.6\n",
      "Acc of ethnicity concept: 57.3\n",
      "\n"
     ]
    }
   ],
   "source": [
    "concept_list = [('gender', model_gender), ('age', model_age_multi), ('ethnicity', model_ethnicity)]\n",
    "    \n",
    "for concept_tuple in concept_list:\n",
    "    concept = concept_tuple[0]\n",
    "    model = concept_tuple[1]\n",
    "    acc_ = get_advx_acc_multi_pgd(advx_batch_list=advx_batches, advx_dict=df_advx_1000_dict_multi, model=model, concept=concept, \n",
    "                                     img_key='advx', iterations=None)\n",
    "    print(f\"Acc of {concept} concept: {acc_}\")\n",
    "    del acc_ \n",
    "del advx_batches\n",
    "    \n",
    "print()"
   ]
  },
  {
   "cell_type": "code",
   "execution_count": 63,
   "metadata": {},
   "outputs": [],
   "source": [
    "advx_batches = pickle.load(open('final_exp_utkface/foolbox/linf/pgd_fb_linf_gender_eps_0.3_utkface_stepsize_40_10001.pkl', 'rb'))\n",
    "dict_X_to_label_mapping_multi = get_x_to_label_mapping(advx_batches, dataloader_dict_multi_1000)\n",
    "assert_lp_bound(advx_batches, dict_X_to_label_mapping_multi, eps=0.3, norms='linf')"
   ]
  },
  {
   "cell_type": "code",
   "execution_count": 64,
   "metadata": {},
   "outputs": [],
   "source": [
    "acc_age_multi = get_advx_acc_across_iters(advx_batches=advx_batches, df_advx_dict=df_advx_1000_dict_multi, model=model_age, concept='age', img_key='advx', num_iters=3, len_df=len(df_advx_multi))"
   ]
  },
  {
   "cell_type": "code",
   "execution_count": 65,
   "metadata": {},
   "outputs": [
    {
     "name": "stdout",
     "output_type": "stream",
     "text": [
      "FOOLBOX LINF ADVX EXAMPLES OF ATTACK GENDER:\n",
      "Acc of age concept multi: {0: 43.8, 1: 43.8, 2: 43.8}\n"
     ]
    }
   ],
   "source": [
    "print(\"FOOLBOX LINF ADVX EXAMPLES OF ATTACK GENDER:\")\n",
    "print(f\"Acc of age concept multi: {acc_age_multi}\")"
   ]
  },
  {
   "cell_type": "markdown",
   "metadata": {},
   "source": [
    "# Averaging losses UTKFace"
   ]
  },
  {
   "cell_type": "markdown",
   "metadata": {},
   "source": [
    "### L2"
   ]
  },
  {
   "cell_type": "code",
   "execution_count": 34,
   "metadata": {},
   "outputs": [
    {
     "data": {
      "text/plain": [
       "['pgd_avgloss_l2_genderAgeEthnicity_fb_label_flip_sum_None_abs_eps_4_sum_utk.pkl',\n",
       " 'pgd_avgloss_l2_genderAge_fb_label_flip_sum_None_abs_eps_4_sum_utk.pkl']"
      ]
     },
     "execution_count": 34,
     "metadata": {},
     "output_type": "execute_result"
    }
   ],
   "source": [
    "os.listdir('final_exp_utkface/avg_losses/l2')"
   ]
  },
  {
   "cell_type": "code",
   "execution_count": 35,
   "metadata": {},
   "outputs": [
    {
     "name": "stdout",
     "output_type": "stream",
     "text": [
      "File_name: pgd_avgloss_l2_genderAgeEthnicity_fb_label_flip_sum_None_abs_eps_4_sum_utk.pkl\n",
      "Custom l2 norm advx with Attack concepts: genderAgeEthnicity and Defend concepts: fb\n",
      "Acc of gender concept: 56.4\n",
      "Acc of age concept: 49.5\n",
      "Acc of ethnicity concept: 44.6\n",
      "\n",
      "File_name: pgd_avgloss_l2_genderAge_fb_label_flip_sum_None_abs_eps_4_sum_utk.pkl\n",
      "Custom l2 norm advx with Attack concepts: genderAge and Defend concepts: fb\n",
      "Acc of gender concept: 44.8\n",
      "Acc of age concept: 54.6\n",
      "Acc of ethnicity concept: 80.0\n",
      "\n"
     ]
    }
   ],
   "source": [
    "custom_advx_wrapper(parent_dir='final_exp_utkface/avg_losses/l2', dl_dict=dataloader_dict_1000, norm='l2', concept_list=concept_list)"
   ]
  },
  {
   "cell_type": "markdown",
   "metadata": {},
   "source": [
    "### Linf"
   ]
  },
  {
   "cell_type": "code",
   "execution_count": 28,
   "metadata": {},
   "outputs": [
    {
     "data": {
      "text/plain": [
       "['pgd_avgloss_linf_genderAge_fb_label_flip_sum_None_abs_eps_0.3_sum_utk.pkl',\n",
       " 'pgd_avgloss_linf_genderAgeEthnicity_fb_label_flip_sum_None_abs_eps_0.3_sum_utk.pkl']"
      ]
     },
     "execution_count": 28,
     "metadata": {},
     "output_type": "execute_result"
    }
   ],
   "source": [
    "os.listdir('final_exp_utkface/avg_losses/linf')"
   ]
  },
  {
   "cell_type": "code",
   "execution_count": 33,
   "metadata": {},
   "outputs": [
    {
     "name": "stdout",
     "output_type": "stream",
     "text": [
      "File_name: pgd_avgloss_linf_genderAgeEthnicity_fb_label_flip_sum_None_abs_eps_0.3_sum_utk.pkl\n",
      "Custom linf norm advx with Attack concepts: genderAgeEthnicity and Defend concepts: fb\n",
      "Acc of gender concept: 3.6\n",
      "Acc of age concept: 21.3\n",
      "Acc of ethnicity concept: 1.8\n",
      "\n",
      "File_name: pgd_avgloss_linf_genderAge_fb_label_flip_sum_None_abs_eps_0.3_sum_utk.pkl\n",
      "Custom linf norm advx with Attack concepts: genderAge and Defend concepts: fb\n",
      "Acc of gender concept: 7.9\n",
      "Acc of age concept: 25.6\n",
      "Acc of ethnicity concept: 57.1\n",
      "\n"
     ]
    }
   ],
   "source": [
    "custom_advx_wrapper(parent_dir='final_exp_utkface/avg_losses/linf', dl_dict=dataloader_dict_1000, norm='linf', concept_list=concept_list)"
   ]
  },
  {
   "cell_type": "markdown",
   "metadata": {},
   "source": [
    "# Custom attacks UTKFace"
   ]
  },
  {
   "cell_type": "markdown",
   "metadata": {},
   "source": [
    "## Weights"
   ]
  },
  {
   "cell_type": "code",
   "execution_count": 32,
   "metadata": {},
   "outputs": [],
   "source": [
    "concept_dict = {'age': 0, 'gender': 1, 'ethnicity': 2}\n",
    "concept_list = [('gender', model_gender), ('age', model_age), ('ethnicity', model_ethnicity)]"
   ]
  },
  {
   "cell_type": "markdown",
   "metadata": {},
   "source": [
    "### Linf"
   ]
  },
  {
   "cell_type": "code",
   "execution_count": 32,
   "metadata": {},
   "outputs": [
    {
     "data": {
      "text/plain": [
       "['1-attack-1-protect', '1-attack-2-protect']"
      ]
     },
     "execution_count": 32,
     "metadata": {},
     "output_type": "execute_result"
    }
   ],
   "source": [
    "os.listdir('final_exp_utkface/weights_hyperparam/linf')"
   ]
  },
  {
   "cell_type": "code",
   "execution_count": 37,
   "metadata": {},
   "outputs": [
    {
     "name": "stdout",
     "output_type": "stream",
     "text": [
      "File_name: pgd_weight_0.2_0.8_linf_age_gender_eps0.3_utk.pkl\n",
      "Custom linf norm advx with Attack concepts: age and Defend concepts: gender\n",
      "Acc of gender concept: 96.1\n",
      "Acc of age concept: 49.1\n",
      "Acc of ethnicity concept: 57.2\n",
      "\n",
      "File_name: pgd_weight_0.2_0.8_linf_gender_age_eps0.3_utk.pkl\n",
      "Custom linf norm advx with Attack concepts: gender and Defend concepts: age\n",
      "Acc of gender concept: 4.6\n",
      "Acc of age concept: 93.4\n",
      "Acc of ethnicity concept: 56.8\n",
      "\n",
      "File_name: pgd_weight_0.4_0.6_linf_age_gender_eps0.3_utk.pkl\n",
      "Custom linf norm advx with Attack concepts: age and Defend concepts: gender\n",
      "Acc of gender concept: 96.4\n",
      "Acc of age concept: 43.1\n",
      "Acc of ethnicity concept: 57.1\n",
      "\n",
      "File_name: pgd_weight_0.4_0.6_linf_gender_age_eps0.3_utk.pkl\n",
      "Custom linf norm advx with Attack concepts: gender and Defend concepts: age\n",
      "Acc of gender concept: 4.2\n",
      "Acc of age concept: 79.3\n",
      "Acc of ethnicity concept: 57.0\n",
      "\n",
      "File_name: pgd_weight_0.6_0.4_linf_age_gender_eps0.3_utk.pkl\n",
      "Custom linf norm advx with Attack concepts: age and Defend concepts: gender\n",
      "Acc of gender concept: 97.7\n",
      "Acc of age concept: 27.3\n",
      "Acc of ethnicity concept: 57.2\n",
      "\n",
      "File_name: pgd_weight_0.6_0.4_linf_gender_age_eps0.3_utk.pkl\n",
      "Custom linf norm advx with Attack concepts: gender and Defend concepts: age\n",
      "Acc of gender concept: 5.8\n",
      "Acc of age concept: 62.9\n",
      "Acc of ethnicity concept: 57.3\n",
      "\n",
      "File_name: pgd_weight_0.8_0.2_linf_age_gender_eps0.3_utk.pkl\n",
      "Custom linf norm advx with Attack concepts: age and Defend concepts: gender\n",
      "Acc of gender concept: 95.9\n",
      "Acc of age concept: 11.3\n",
      "Acc of ethnicity concept: 57.4\n",
      "\n",
      "File_name: pgd_weight_0.8_0.2_linf_gender_age_eps0.3_utk.pkl\n",
      "Custom linf norm advx with Attack concepts: gender and Defend concepts: age\n",
      "Acc of gender concept: 6.1\n",
      "Acc of age concept: 52.8\n",
      "Acc of ethnicity concept: 57.1\n",
      "\n"
     ]
    }
   ],
   "source": [
    "custom_advx_wrapper(parent_dir='final_exp_utkface/weights_hyperparam/linf/1-attack-1-protect/', \n",
    "                    advx_dict=df_advx_1000_dict, df_advx=df_advx, dl_dict=dataloader_dict_1000, norm='linf', concept_list=concept_list)"
   ]
  },
  {
   "cell_type": "code",
   "execution_count": 38,
   "metadata": {},
   "outputs": [
    {
     "name": "stdout",
     "output_type": "stream",
     "text": [
      "File_name: pgd_weight_0.2_0.8_linf_age_genderEthnicity_eps0.3_utk.pkl\n",
      "Custom linf norm advx with Attack concepts: age and Defend concepts: genderEthnicity\n",
      "Acc of gender concept: 98.8\n",
      "Acc of age concept: 49.1\n",
      "Acc of ethnicity concept: 99.9\n",
      "\n",
      "File_name: pgd_weight_0.2_0.8_linf_gender_ageEthnicity_eps0.3_utk.pkl\n",
      "Custom linf norm advx with Attack concepts: gender and Defend concepts: ageEthnicity\n",
      "Acc of gender concept: 3.9\n",
      "Acc of age concept: 61.6\n",
      "Acc of ethnicity concept: 100.0\n",
      "\n",
      "File_name: pgd_weight_0.4_0.6_linf_age_genderEthnicity_eps0.3_utk.pkl\n",
      "Custom linf norm advx with Attack concepts: age and Defend concepts: genderEthnicity\n",
      "Acc of gender concept: 99.1\n",
      "Acc of age concept: 46.1\n",
      "Acc of ethnicity concept: 100.0\n",
      "\n",
      "File_name: pgd_weight_0.4_0.6_linf_gender_ageEthnicity_eps0.3_utk.pkl\n",
      "Custom linf norm advx with Attack concepts: gender and Defend concepts: ageEthnicity\n",
      "Acc of gender concept: 2.1\n",
      "Acc of age concept: 55.4\n",
      "Acc of ethnicity concept: 99.7\n",
      "\n",
      "File_name: pgd_weight_0.6_0.4_linf_age_genderEthnicity_eps0.3_utk.pkl\n",
      "Custom linf norm advx with Attack concepts: age and Defend concepts: genderEthnicity\n",
      "Acc of gender concept: 98.0\n",
      "Acc of age concept: 31.2\n",
      "Acc of ethnicity concept: 99.3\n",
      "\n",
      "File_name: pgd_weight_0.6_0.4_linf_gender_ageEthnicity_eps0.3_utk.pkl\n",
      "Custom linf norm advx with Attack concepts: gender and Defend concepts: ageEthnicity\n",
      "Acc of gender concept: 5.5\n",
      "Acc of age concept: 52.4\n",
      "Acc of ethnicity concept: 97.9\n",
      "\n",
      "File_name: pgd_weight_0.8_0.2_linf_age_genderEthnicity_eps0.3_utk.pkl\n",
      "Custom linf norm advx with Attack concepts: age and Defend concepts: genderEthnicity\n",
      "Acc of gender concept: 89.7\n",
      "Acc of age concept: 9.6\n",
      "Acc of ethnicity concept: 91.6\n",
      "\n",
      "File_name: pgd_weight_0.8_0.2_linf_gender_ageEthnicity_eps0.3_utk.pkl\n",
      "Custom linf norm advx with Attack concepts: gender and Defend concepts: ageEthnicity\n",
      "Acc of gender concept: 6.2\n",
      "Acc of age concept: 50.4\n",
      "Acc of ethnicity concept: 82.7\n",
      "\n"
     ]
    }
   ],
   "source": [
    "custom_advx_wrapper(parent_dir='final_exp_utkface/weights_hyperparam/linf/1-attack-2-protect/', \n",
    "                    advx_dict=df_advx_1000_dict, df_advx=df_advx, dl_dict=dataloader_dict_1000, norm='linf', concept_list=concept_list)"
   ]
  },
  {
   "cell_type": "markdown",
   "metadata": {},
   "source": [
    "### Linf"
   ]
  },
  {
   "cell_type": "code",
   "execution_count": 41,
   "metadata": {},
   "outputs": [
    {
     "data": {
      "text/plain": [
       "['1_attack_2_protect', '1_attack_1_protect']"
      ]
     },
     "execution_count": 41,
     "metadata": {},
     "output_type": "execute_result"
    }
   ],
   "source": [
    "os.listdir('final_exp_utkface/weights_hyperparam/l2')"
   ]
  },
  {
   "cell_type": "code",
   "execution_count": 43,
   "metadata": {
    "scrolled": false
   },
   "outputs": [
    {
     "name": "stdout",
     "output_type": "stream",
     "text": [
      "File_name: pgd_weight_0.2_0.8_l2_age_gender_eps4_utk.pkl\n",
      "Custom l2 norm advx with Attack concepts: age and Defend concepts: gender\n",
      "Acc of gender concept: 97.2\n",
      "Acc of age concept: 66.3\n",
      "Acc of ethnicity concept: 78.7\n",
      "\n",
      "File_name: pgd_weight_0.2_0.8_l2_gender_age_eps4_utk.pkl\n",
      "Custom l2 norm advx with Attack concepts: gender and Defend concepts: age\n",
      "Acc of gender concept: 60.9\n",
      "Acc of age concept: 96.3\n",
      "Acc of ethnicity concept: 79.1\n",
      "\n",
      "File_name: pgd_weight_0.4_0.6_l2_age_gender_eps4_utk.pkl\n",
      "Custom l2 norm advx with Attack concepts: age and Defend concepts: gender\n",
      "Acc of gender concept: 97.8\n",
      "Acc of age concept: 52.0\n",
      "Acc of ethnicity concept: 79.5\n",
      "\n",
      "File_name: pgd_weight_0.4_0.6_l2_gender_age_eps4_utk.pkl\n",
      "Custom l2 norm advx with Attack concepts: gender and Defend concepts: age\n",
      "Acc of gender concept: 47.3\n",
      "Acc of age concept: 95.9\n",
      "Acc of ethnicity concept: 78.8\n",
      "\n",
      "File_name: pgd_weight_0.6_0.4_l2_age_gender_eps4_utk.pkl\n",
      "Custom l2 norm advx with Attack concepts: age and Defend concepts: gender\n",
      "Acc of gender concept: 96.8\n",
      "Acc of age concept: 42.2\n",
      "Acc of ethnicity concept: 79.3\n",
      "\n",
      "File_name: pgd_weight_0.6_0.4_l2_gender_age_eps4_utk.pkl\n",
      "Custom l2 norm advx with Attack concepts: gender and Defend concepts: age\n",
      "Acc of gender concept: 36.5\n",
      "Acc of age concept: 95.8\n",
      "Acc of ethnicity concept: 78.6\n",
      "\n",
      "File_name: pgd_weight_0.8_0.2_l2_age_gender_eps4_utk.pkl\n",
      "Custom l2 norm advx with Attack concepts: age and Defend concepts: gender\n",
      "Acc of gender concept: 94.0\n",
      "Acc of age concept: 39.6\n",
      "Acc of ethnicity concept: 79.2\n",
      "\n",
      "File_name: pgd_weight_0.8_0.2_l2_gender_age_eps4_utk.pkl\n",
      "Custom l2 norm advx with Attack concepts: gender and Defend concepts: age\n",
      "Acc of gender concept: 34.2\n",
      "Acc of age concept: 93.4\n",
      "Acc of ethnicity concept: 78.2\n",
      "\n"
     ]
    }
   ],
   "source": [
    "custom_advx_wrapper(parent_dir='final_exp_utkface/weights_hyperparam/l2/1_attack_1_protect/', advx_dict=df_advx_1000_dict, df_advx=df_advx, dl_dict=dataloader_dict_1000, norm='l2', concept_list=concept_list)"
   ]
  },
  {
   "cell_type": "code",
   "execution_count": 35,
   "metadata": {},
   "outputs": [
    {
     "name": "stdout",
     "output_type": "stream",
     "text": [
      "File_name: pgd_weight_0.2_0.8_l2_age_genderEthnicity_eps4_utk.pkl\n",
      "Custom l2 norm advx with Attack concepts: age and Defend concepts: genderEthnicity\n",
      "Acc of gender concept: 95.9\n",
      "Acc of age concept: 61.5\n",
      "Acc of ethnicity concept: 98.2\n",
      "\n",
      "File_name: pgd_weight_0.2_0.8_l2_gender_ageEthnicity_eps4_utk.pkl\n",
      "Custom l2 norm advx with Attack concepts: gender and Defend concepts: ageEthnicity\n",
      "Acc of gender concept: 57.6\n",
      "Acc of age concept: 96.1\n",
      "Acc of ethnicity concept: 98.3\n",
      "\n",
      "File_name: pgd_weight_0.4_0.6_l2_age_genderEthnicity_eps4_utk.pkl\n",
      "Custom l2 norm advx with Attack concepts: age and Defend concepts: genderEthnicity\n",
      "Acc of gender concept: 95.8\n",
      "Acc of age concept: 47.7\n",
      "Acc of ethnicity concept: 97.5\n",
      "\n",
      "File_name: pgd_weight_0.4_0.6_l2_gender_ageEthnicity_eps4_utk.pkl\n",
      "Custom l2 norm advx with Attack concepts: gender and Defend concepts: ageEthnicity\n",
      "Acc of gender concept: 43.4\n",
      "Acc of age concept: 94.8\n",
      "Acc of ethnicity concept: 98.0\n",
      "\n",
      "File_name: pgd_weight_0.6_0.4_l2_age_genderEthnicity_eps4_utk.pkl\n",
      "Custom l2 norm advx with Attack concepts: age and Defend concepts: genderEthnicity\n",
      "Acc of gender concept: 94.4\n",
      "Acc of age concept: 39.5\n",
      "Acc of ethnicity concept: 95.7\n",
      "\n",
      "File_name: pgd_weight_0.6_0.4_l2_gender_ageEthnicity_eps4_utk.pkl\n",
      "Custom l2 norm advx with Attack concepts: gender and Defend concepts: ageEthnicity\n",
      "Acc of gender concept: 36.1\n",
      "Acc of age concept: 94.1\n",
      "Acc of ethnicity concept: 95.9\n",
      "\n",
      "File_name: pgd_weight_0.8_0.2_l2_age_genderEthnicity_eps4_utk.pkl\n",
      "Custom l2 norm advx with Attack concepts: age and Defend concepts: genderEthnicity\n",
      "Acc of gender concept: 91.2\n",
      "Acc of age concept: 40.5\n",
      "Acc of ethnicity concept: 92.1\n",
      "\n",
      "File_name: pgd_weight_0.8_0.2_l2_gender_ageEthnicity_eps4_utk.pkl\n",
      "Custom l2 norm advx with Attack concepts: gender and Defend concepts: ageEthnicity\n",
      "Acc of gender concept: 35.6\n",
      "Acc of age concept: 92.7\n",
      "Acc of ethnicity concept: 91.2\n",
      "\n"
     ]
    }
   ],
   "source": [
    "custom_advx_wrapper(parent_dir='final_exp_utkface/weights_hyperparam/l2/1_attack_2_protect/', advx_dict=df_advx_1000_dict, df_advx=df_advx, dl_dict=dataloader_dict_1000, norm='l2', concept_list=concept_list)"
   ]
  },
  {
   "cell_type": "markdown",
   "metadata": {},
   "source": [
    "## Multi"
   ]
  },
  {
   "cell_type": "code",
   "execution_count": null,
   "metadata": {},
   "outputs": [],
   "source": [
    "concept_dict = {'age': 0, 'gender': 1, 'ethnicity': 2}\n",
    "concept_list = [('gender', model_gender), ('age', model_age), ('ethnicity', model_ethnicity)]"
   ]
  },
  {
   "cell_type": "code",
   "execution_count": 26,
   "metadata": {
    "scrolled": false
   },
   "outputs": [
    {
     "data": {
      "text/plain": [
       "['pgd_multi_maxloss_l2_gender_age_eps_4_utk.pkl',\n",
       " 'pgd_multi_maxloss_l2_gender_ageEthnicity_eps_4_utk.pkl',\n",
       " 'pgd_multi_maxloss_l2_genderEthnicity_age_eps_4_utk.pkl',\n",
       " 'pgd_multi_maxloss_l2_age_genderEthnicity_eps_4_utk.pkl',\n",
       " 'pgd_multi_maxloss_l2_age_gender_eps_4_utk.pkl']"
      ]
     },
     "execution_count": 26,
     "metadata": {},
     "output_type": "execute_result"
    }
   ],
   "source": [
    "os.listdir('final_exp_utkface/multi/l2')"
   ]
  },
  {
   "cell_type": "code",
   "execution_count": 27,
   "metadata": {},
   "outputs": [
    {
     "data": {
      "text/plain": [
       "['pgd_multi_maxloss_linf_age_gender_eps_0.3_utk.pkl',\n",
       " 'pgd_multi_maxloss_linf_gender_ageEthnicity_eps_0.3_utk.pkl',\n",
       " 'pgd_multi_maxloss_linf_genderEthnicity_age_eps_0.3_utk.pkl',\n",
       " 'pgd_multi_maxloss_linf_gender_age_eps_0.3_utk.pkl',\n",
       " 'pgd_multi_maxloss_linf_age_genderEthnicity_eps_0.3_utk.pkl']"
      ]
     },
     "execution_count": 27,
     "metadata": {},
     "output_type": "execute_result"
    }
   ],
   "source": [
    "os.listdir('final_exp_utkface/multi/linf')"
   ]
  },
  {
   "cell_type": "code",
   "execution_count": 30,
   "metadata": {},
   "outputs": [
    {
     "name": "stdout",
     "output_type": "stream",
     "text": [
      "File_name: pgd_multi_maxloss_l2_age_genderEthnicity_eps_4_utk.pkl\n",
      "Custom l2 norm advx with Attack concepts: age and Defend concepts: genderEthnicity\n",
      "Acc of gender concept: 95.8\n",
      "Acc of age concept: 23.8\n",
      "Acc of ethnicity concept: 95.3\n",
      "\n",
      "File_name: pgd_multi_maxloss_l2_age_gender_eps_4_utk.pkl\n",
      "Custom l2 norm advx with Attack concepts: age and Defend concepts: gender\n",
      "Acc of gender concept: 95.4\n",
      "Acc of age concept: 16.0\n",
      "Acc of ethnicity concept: 77.4\n",
      "\n",
      "File_name: pgd_multi_maxloss_l2_genderEthnicity_age_eps_4_utk.pkl\n",
      "Custom l2 norm advx with Attack concepts: genderEthnicity and Defend concepts: age\n",
      "Acc of gender concept: 55.0\n",
      "Acc of age concept: 86.7\n",
      "Acc of ethnicity concept: 43.4\n",
      "\n",
      "File_name: pgd_multi_maxloss_l2_gender_ageEthnicity_eps_4_utk.pkl\n",
      "Custom l2 norm advx with Attack concepts: gender and Defend concepts: ageEthnicity\n",
      "Acc of gender concept: 43.2\n",
      "Acc of age concept: 88.2\n",
      "Acc of ethnicity concept: 96.1\n",
      "\n",
      "File_name: pgd_multi_maxloss_l2_gender_age_eps_4_utk.pkl\n",
      "Custom l2 norm advx with Attack concepts: gender and Defend concepts: age\n",
      "Acc of gender concept: 46.3\n",
      "Acc of age concept: 87.1\n",
      "Acc of ethnicity concept: 79.8\n",
      "\n"
     ]
    }
   ],
   "source": [
    "custom_advx_wrapper(parent_dir='final_exp_utkface/multi/l2', advx_dict=df_advx_1000_dict_multi, df_advx=df_advx_multi, \n",
    "                    dl_dict=dataloader_dict_multi_1000, norm='l2', concept_list=concept_list)"
   ]
  },
  {
   "cell_type": "code",
   "execution_count": 29,
   "metadata": {},
   "outputs": [
    {
     "name": "stdout",
     "output_type": "stream",
     "text": [
      "File_name: pgd_multi_maxloss_linf_age_genderEthnicity_eps_0.3_utk.pkl\n",
      "Custom linf norm advx with Attack concepts: age and Defend concepts: genderEthnicity\n",
      "Acc of gender concept: 96.1\n",
      "Acc of age concept: 23.8\n",
      "Acc of ethnicity concept: 99.5\n",
      "\n",
      "File_name: pgd_multi_maxloss_linf_age_gender_eps_0.3_utk.pkl\n",
      "Custom linf norm advx with Attack concepts: age and Defend concepts: gender\n",
      "Acc of gender concept: 95.4\n",
      "Acc of age concept: 14.2\n",
      "Acc of ethnicity concept: 57.2\n",
      "\n",
      "File_name: pgd_multi_maxloss_linf_genderEthnicity_age_eps_0.3_utk.pkl\n",
      "Custom linf norm advx with Attack concepts: genderEthnicity and Defend concepts: age\n",
      "Acc of gender concept: 4.5\n",
      "Acc of age concept: 55.0\n",
      "Acc of ethnicity concept: 1.6\n",
      "\n",
      "File_name: pgd_multi_maxloss_linf_gender_ageEthnicity_eps_0.3_utk.pkl\n",
      "Custom linf norm advx with Attack concepts: gender and Defend concepts: ageEthnicity\n",
      "Acc of gender concept: 6.4\n",
      "Acc of age concept: 47.1\n",
      "Acc of ethnicity concept: 99.4\n",
      "\n",
      "File_name: pgd_multi_maxloss_linf_gender_age_eps_0.3_utk.pkl\n",
      "Custom linf norm advx with Attack concepts: gender and Defend concepts: age\n",
      "Acc of gender concept: 6.6\n",
      "Acc of age concept: 55.3\n",
      "Acc of ethnicity concept: 56.6\n",
      "\n"
     ]
    }
   ],
   "source": [
    "custom_advx_wrapper(parent_dir='final_exp_utkface/multi/linf', advx_dict=df_advx_1000_dict_multi, df_advx=df_advx_multi, \n",
    "                    dl_dict=dataloader_dict_multi_1000, norm='linf', concept_list=concept_list)"
   ]
  },
  {
   "cell_type": "markdown",
   "metadata": {},
   "source": [
    "## 1 attack, 1 defend"
   ]
  },
  {
   "cell_type": "code",
   "execution_count": 57,
   "metadata": {},
   "outputs": [],
   "source": [
    "#advx_batches = pickle.load(open(os.path.join('final_exp_utkface/multi/linf', 'pgd_multi_maxloss_linf_age_gender_eps_0.3_utk.pkl'), 'rb'))\n",
    "#dict_X_to_label_mapping = get_x_to_label_mapping(advx_batches, dataloader_dict_multi_1000)"
   ]
  },
  {
   "cell_type": "code",
   "execution_count": 58,
   "metadata": {},
   "outputs": [],
   "source": [
    "#dict_X_to_label_mapping[0].keys()"
   ]
  },
  {
   "cell_type": "code",
   "execution_count": 59,
   "metadata": {},
   "outputs": [],
   "source": [
    "#for k in dataloader_dict_multi_1000:\n",
    "#    print(dataloader_dict_multi_1000[k]['labels'])"
   ]
  },
  {
   "cell_type": "code",
   "execution_count": 30,
   "metadata": {},
   "outputs": [],
   "source": [
    "concept_dict = {'age': 0, 'gender': 1, 'ethnicity': 2}\n",
    "concept_list = [('gender', model_gender), ('age', model_age), ('ethnicity', model_ethnicity)]"
   ]
  },
  {
   "cell_type": "markdown",
   "metadata": {},
   "source": [
    "### L2"
   ]
  },
  {
   "cell_type": "code",
   "execution_count": 50,
   "metadata": {},
   "outputs": [
    {
     "data": {
      "text/plain": [
       "['pgd_custom_l2_age_gender_eps_4_step_40_iter_50.pkl',\n",
       " 'pgd_custom_l2_age_gender_eps_4_step_40_iter_150.pkl',\n",
       " 'pgd_custom_l2_age_gender_eps_4_step_40_iter_200.pkl',\n",
       " 'pgd_custom_l2_age_gender_eps_4_step_40_iter_100.pkl',\n",
       " 'pgd_custom_l2_gender_age_eps_4_step_40_iter_200.pkl']"
      ]
     },
     "execution_count": 50,
     "metadata": {},
     "output_type": "execute_result"
    }
   ],
   "source": [
    "os.listdir('final_exp_utkface/1_attack_1_defend/l2')"
   ]
  },
  {
   "cell_type": "code",
   "execution_count": 51,
   "metadata": {},
   "outputs": [
    {
     "name": "stdout",
     "output_type": "stream",
     "text": [
      "File_name: pgd_custom_l2_age_gender_eps_4_step_40_iter_100.pkl\n",
      "Custom l2 norm advx with Attack concepts: age and Defend concepts: gender\n",
      "Acc of gender concept: 94.4\n",
      "Acc of age concept: 59.0\n",
      "Acc of ethnicity concept: 80.8\n",
      "\n",
      "File_name: pgd_custom_l2_age_gender_eps_4_step_40_iter_150.pkl\n",
      "Custom l2 norm advx with Attack concepts: age and Defend concepts: gender\n",
      "Acc of gender concept: 95.6\n",
      "Acc of age concept: 58.9\n",
      "Acc of ethnicity concept: 79.2\n",
      "\n",
      "File_name: pgd_custom_l2_age_gender_eps_4_step_40_iter_200.pkl\n",
      "Custom l2 norm advx with Attack concepts: age and Defend concepts: gender\n",
      "Acc of gender concept: 96.0\n",
      "Acc of age concept: 53.9\n",
      "Acc of ethnicity concept: 79.6\n",
      "\n",
      "File_name: pgd_custom_l2_age_gender_eps_4_step_40_iter_50.pkl\n",
      "Custom l2 norm advx with Attack concepts: age and Defend concepts: gender\n",
      "Acc of gender concept: 93.9\n",
      "Acc of age concept: 57.7\n",
      "Acc of ethnicity concept: 80.1\n",
      "\n",
      "File_name: pgd_custom_l2_gender_age_eps_4_step_40_iter_200.pkl\n",
      "Custom l2 norm advx with Attack concepts: gender and Defend concepts: age\n",
      "Acc of gender concept: 47.6\n",
      "Acc of age concept: 95.0\n",
      "Acc of ethnicity concept: 79.7\n",
      "\n"
     ]
    }
   ],
   "source": [
    "custom_advx_wrapper(parent_dir='final_exp_utkface/1_attack_1_defend/l2', dl_dict=dataloader_dict_1000, norm='l2', concept_list=concept_list)"
   ]
  },
  {
   "cell_type": "markdown",
   "metadata": {},
   "source": [
    "### Linf"
   ]
  },
  {
   "cell_type": "code",
   "execution_count": 41,
   "metadata": {},
   "outputs": [
    {
     "data": {
      "text/plain": [
       "['pgd_custom_linf_age_gender_eps_0.3_step_40_iter_50.pkl',\n",
       " 'pgd_custom_linf_age_gender_eps_0.3_step_40_iter_200.pkl',\n",
       " 'pgd_custom_linf_age_gender_eps_0.3_step_40_iter_150.pkl',\n",
       " 'others',\n",
       " 'pgd_custom_linf_age_gender_eps_0.3_step_40_iter_100.pkl']"
      ]
     },
     "execution_count": 41,
     "metadata": {},
     "output_type": "execute_result"
    }
   ],
   "source": [
    "os.listdir('final_exp_utkface/1_attack_1_defend/linf')"
   ]
  },
  {
   "cell_type": "code",
   "execution_count": 49,
   "metadata": {},
   "outputs": [
    {
     "name": "stdout",
     "output_type": "stream",
     "text": [
      "File_name: pgd_custom_linf_age_gender_eps_0.3_step_40_iter_100.pkl\n",
      "Custom linf norm advx with Attack concepts: age and Defend concepts: gender\n",
      "Acc of gender concept: 96.5\n",
      "Acc of age concept: 38.4\n",
      "Acc of ethnicity concept: 52.8\n",
      "\n",
      "File_name: pgd_custom_linf_age_gender_eps_0.3_step_40_iter_150.pkl\n",
      "Custom linf norm advx with Attack concepts: age and Defend concepts: gender\n",
      "Acc of gender concept: 96.3\n",
      "Acc of age concept: 30.0\n",
      "Acc of ethnicity concept: 57.2\n",
      "\n",
      "File_name: pgd_custom_linf_age_gender_eps_0.3_step_40_iter_200.pkl\n",
      "Custom linf norm advx with Attack concepts: age and Defend concepts: gender\n",
      "Acc of gender concept: 95.9\n",
      "Acc of age concept: 23.4\n",
      "Acc of ethnicity concept: 57.2\n",
      "\n",
      "File_name: pgd_custom_linf_age_gender_eps_0.3_step_40_iter_50.pkl\n",
      "Custom linf norm advx with Attack concepts: age and Defend concepts: gender\n",
      "Acc of gender concept: 72.8\n",
      "Acc of age concept: 49.2\n",
      "Acc of ethnicity concept: 43.7\n",
      "\n",
      "File_name: pgd_custom_linf_gender_age_eps_0.3_step_40_iter_200.pkl\n",
      "Custom linf norm advx with Attack concepts: gender and Defend concepts: age\n",
      "Acc of gender concept: 7.5\n",
      "Acc of age concept: 80.9\n",
      "Acc of ethnicity concept: 57.0\n",
      "\n"
     ]
    }
   ],
   "source": [
    "custom_advx_wrapper(parent_dir='final_exp_utkface/1_attack_1_defend/linf', dl_dict=dataloader_dict_1000, norm='linf', concept_list=concept_list)"
   ]
  },
  {
   "cell_type": "markdown",
   "metadata": {},
   "source": [
    "## 1 attack, 2 defend"
   ]
  },
  {
   "cell_type": "markdown",
   "metadata": {},
   "source": [
    "### L2"
   ]
  },
  {
   "cell_type": "code",
   "execution_count": 56,
   "metadata": {},
   "outputs": [
    {
     "data": {
      "text/plain": [
       "['advx_batches_age_genderEthnicity_linf_UTKFace.pkl',\n",
       " 'pgd_custom_l2_age_genderEthnicity_eps_4_step_40_iter_150.pkl',\n",
       " 'pgd_custom_l2_age_genderEthnicity_eps_4_step_40_iter_100.pkl',\n",
       " 'pgd_custom_l2_age_genderEthnicity_eps_4_step_40_iter_50.pkl',\n",
       " 'pgd_custom_l2_gender_ageEthnicity_eps_4_step_40_iter_200.pkl',\n",
       " 'pgd_custom_l2_age_genderEthnicity_eps_4_step_40_iter_200.pkl']"
      ]
     },
     "execution_count": 56,
     "metadata": {},
     "output_type": "execute_result"
    }
   ],
   "source": [
    "os.listdir('final_exp_utkface/1_attack_2_defend/l2')"
   ]
  },
  {
   "cell_type": "code",
   "execution_count": 58,
   "metadata": {
    "scrolled": false
   },
   "outputs": [
    {
     "name": "stdout",
     "output_type": "stream",
     "text": [
      "File_name: pgd_custom_l2_age_genderEthnicity_eps_4_step_40_iter_100.pkl\n",
      "Custom l2 norm advx with Attack concepts: age and Defend concepts: genderEthnicity\n",
      "Acc of gender concept: 95.1\n",
      "Acc of age concept: 64.9\n",
      "Acc of ethnicity concept: 92.0\n",
      "\n",
      "File_name: pgd_custom_l2_age_genderEthnicity_eps_4_step_40_iter_150.pkl\n",
      "Custom l2 norm advx with Attack concepts: age and Defend concepts: genderEthnicity\n",
      "Acc of gender concept: 95.0\n",
      "Acc of age concept: 65.9\n",
      "Acc of ethnicity concept: 93.6\n",
      "\n",
      "File_name: pgd_custom_l2_age_genderEthnicity_eps_4_step_40_iter_200.pkl\n",
      "Custom l2 norm advx with Attack concepts: age and Defend concepts: genderEthnicity\n",
      "Acc of gender concept: 93.9\n",
      "Acc of age concept: 48.2\n",
      "Acc of ethnicity concept: 95.3\n",
      "\n",
      "File_name: pgd_custom_l2_age_genderEthnicity_eps_4_step_40_iter_50.pkl\n",
      "Custom l2 norm advx with Attack concepts: age and Defend concepts: genderEthnicity\n",
      "Acc of gender concept: 94.2\n",
      "Acc of age concept: 64.8\n",
      "Acc of ethnicity concept: 89.0\n",
      "\n",
      "File_name: pgd_custom_l2_gender_ageEthnicity_eps_4_step_40_iter_200.pkl\n",
      "Custom l2 norm advx with Attack concepts: gender and Defend concepts: ageEthnicity\n",
      "Acc of gender concept: 44.2\n",
      "Acc of age concept: 94.4\n",
      "Acc of ethnicity concept: 96.0\n",
      "\n"
     ]
    }
   ],
   "source": [
    "custom_advx_wrapper(parent_dir='final_exp_utkface/1_attack_2_defend/l2', dl_dict=dataloader_dict_1000, norm='l2', concept_list=concept_list)"
   ]
  },
  {
   "cell_type": "markdown",
   "metadata": {},
   "source": [
    "### Linf"
   ]
  },
  {
   "cell_type": "code",
   "execution_count": 54,
   "metadata": {},
   "outputs": [
    {
     "data": {
      "text/plain": [
       "['pgd_custom_linf_gender_ageEthnicity_eps_0.3_step_40_iter_200.pkl',\n",
       " 'pgd_custom_linf_age_genderEthnicity_eps_0.3_step_40_iter_150.pkl',\n",
       " 'pgd_custom_linf_age_genderEthnicity_eps_0.3_step_40_iter_200.pkl',\n",
       " 'pgd_custom_linf_age_genderEthnicity_eps_0.3_step_40_iter_50.pkl',\n",
       " 'pgd_custom_linf_age_genderEthnicity_eps_0.3_step_40_iter_100.pkl']"
      ]
     },
     "execution_count": 54,
     "metadata": {},
     "output_type": "execute_result"
    }
   ],
   "source": [
    "os.listdir('final_exp_utkface/1_attack_2_defend/linf')"
   ]
  },
  {
   "cell_type": "code",
   "execution_count": 55,
   "metadata": {},
   "outputs": [
    {
     "name": "stdout",
     "output_type": "stream",
     "text": [
      "File_name: pgd_custom_linf_age_genderEthnicity_eps_0.3_step_40_iter_100.pkl\n",
      "Custom linf norm advx with Attack concepts: age and Defend concepts: genderEthnicity\n",
      "Acc of gender concept: 97.4\n",
      "Acc of age concept: 48.1\n",
      "Acc of ethnicity concept: 97.9\n",
      "\n",
      "File_name: pgd_custom_linf_age_genderEthnicity_eps_0.3_step_40_iter_150.pkl\n",
      "Custom linf norm advx with Attack concepts: age and Defend concepts: genderEthnicity\n",
      "Acc of gender concept: 96.2\n",
      "Acc of age concept: 46.2\n",
      "Acc of ethnicity concept: 99.3\n",
      "\n",
      "File_name: pgd_custom_linf_age_genderEthnicity_eps_0.3_step_40_iter_200.pkl\n",
      "Custom linf norm advx with Attack concepts: age and Defend concepts: genderEthnicity\n",
      "Acc of gender concept: 97.4\n",
      "Acc of age concept: 21.1\n",
      "Acc of ethnicity concept: 99.9\n",
      "\n",
      "File_name: pgd_custom_linf_age_genderEthnicity_eps_0.3_step_40_iter_50.pkl\n",
      "Custom linf norm advx with Attack concepts: age and Defend concepts: genderEthnicity\n",
      "Acc of gender concept: 90.1\n",
      "Acc of age concept: 49.9\n",
      "Acc of ethnicity concept: 89.6\n",
      "\n",
      "File_name: pgd_custom_linf_gender_ageEthnicity_eps_0.3_step_40_iter_200.pkl\n",
      "Custom linf norm advx with Attack concepts: gender and Defend concepts: ageEthnicity\n",
      "Acc of gender concept: 6.5\n",
      "Acc of age concept: 61.4\n",
      "Acc of ethnicity concept: 99.6\n",
      "\n"
     ]
    }
   ],
   "source": [
    "custom_advx_wrapper(parent_dir='final_exp_utkface/1_attack_2_defend/linf', dl_dict=dataloader_dict_1000, norm='linf', concept_list=concept_list)"
   ]
  },
  {
   "cell_type": "markdown",
   "metadata": {},
   "source": [
    "##  2 attack, 1 defend"
   ]
  },
  {
   "cell_type": "markdown",
   "metadata": {},
   "source": [
    "### L2"
   ]
  },
  {
   "cell_type": "code",
   "execution_count": 65,
   "metadata": {},
   "outputs": [
    {
     "data": {
      "text/plain": [
       "['pgd_custom_l2_ageEthnicity_genderEthnicity_eps_4_step_40_iter_100.pkl',\n",
       " 'pgd_custom_l2_ageEthnicity_gender_eps_4_step_40_iter_50.pkl',\n",
       " 'pgd_custom_l2_ageEthnicity_gender_eps_4_step_40_iter_200.pkl',\n",
       " 'pgd_custom_l2_ageEthnicity_genderEthnicity_eps_4_step_40_iter_150.pkl',\n",
       " 'pgd_custom_l2_genderAge_ethnicity_eps_4_step_40_iter_200.pkl',\n",
       " 'pgd_custom_l2_genderEthnicity_age_eps_4_step_40_iter_200.pkl']"
      ]
     },
     "execution_count": 65,
     "metadata": {},
     "output_type": "execute_result"
    }
   ],
   "source": [
    "os.listdir('final_exp_utkface/2_attack_1_defend/l2')"
   ]
  },
  {
   "cell_type": "code",
   "execution_count": 67,
   "metadata": {},
   "outputs": [
    {
     "name": "stdout",
     "output_type": "stream",
     "text": [
      "File_name: pgd_custom_l2_ageEthnicity_gender_eps_4_step_40_iter_100.pkl\n",
      "Custom l2 norm advx with Attack concepts: ageEthnicity and Defend concepts: gender\n",
      "Acc of gender concept: 95.7\n",
      "Acc of age concept: 64.6\n",
      "Acc of ethnicity concept: 56.6\n",
      "\n",
      "File_name: pgd_custom_l2_ageEthnicity_gender_eps_4_step_40_iter_150.pkl\n",
      "Custom l2 norm advx with Attack concepts: ageEthnicity and Defend concepts: gender\n",
      "Acc of gender concept: 95.7\n",
      "Acc of age concept: 64.4\n",
      "Acc of ethnicity concept: 49.9\n",
      "\n",
      "File_name: pgd_custom_l2_ageEthnicity_gender_eps_4_step_40_iter_200.pkl\n",
      "Custom l2 norm advx with Attack concepts: ageEthnicity and Defend concepts: gender\n",
      "Acc of gender concept: 94.8\n",
      "Acc of age concept: 64.1\n",
      "Acc of ethnicity concept: 46.4\n",
      "\n",
      "File_name: pgd_custom_l2_ageEthnicity_gender_eps_4_step_40_iter_50.pkl\n",
      "Custom l2 norm advx with Attack concepts: ageEthnicity and Defend concepts: gender\n",
      "Acc of gender concept: 94.9\n",
      "Acc of age concept: 63.9\n",
      "Acc of ethnicity concept: 62.4\n",
      "\n",
      "File_name: pgd_custom_l2_genderAge_ethnicity_eps_4_step_40_iter_200.pkl\n",
      "Custom l2 norm advx with Attack concepts: genderAge and Defend concepts: ethnicity\n",
      "Acc of gender concept: 56.9\n",
      "Acc of age concept: 64.4\n",
      "Acc of ethnicity concept: 97.7\n",
      "\n",
      "File_name: pgd_custom_l2_genderEthnicity_age_eps_4_step_40_iter_200.pkl\n",
      "Custom l2 norm advx with Attack concepts: genderEthnicity and Defend concepts: age\n",
      "Acc of gender concept: 56.5\n",
      "Acc of age concept: 95.3\n",
      "Acc of ethnicity concept: 44.1\n",
      "\n"
     ]
    }
   ],
   "source": [
    "custom_advx_wrapper(parent_dir='final_exp_utkface/2_attack_1_defend/l2', dl_dict=dataloader_dict_1000, norm='l2', concept_list=concept_list)"
   ]
  },
  {
   "cell_type": "markdown",
   "metadata": {},
   "source": [
    "### Linf"
   ]
  },
  {
   "cell_type": "code",
   "execution_count": 63,
   "metadata": {},
   "outputs": [
    {
     "data": {
      "text/plain": [
       "['pgd_custom_linf_genderAge_ethnicity_eps_0.3_step_40_iter_200.pkl',\n",
       " 'pgd_custom_linf_ageEthnicity_gender_eps_0.3_step_40_iter_200.pkl',\n",
       " 'pgd_custom_linf_ageEthnicity_gender_eps_0.3_step_40_iter_150.pkl',\n",
       " 'pgd_custom_linf_ageEthnicity_gender_eps_0.3_step_40_iter_50.pkl',\n",
       " 'pgd_custom_linf_ageEthnicity_gender_eps_0.3_step_40_iter_100.pkl',\n",
       " 'pgd_custom_linf_genderEthnicity_age_eps_0.3_step_40_iter_200.pkl']"
      ]
     },
     "execution_count": 63,
     "metadata": {},
     "output_type": "execute_result"
    }
   ],
   "source": [
    "os.listdir('final_exp_utkface/2_attack_1_defend/linf')"
   ]
  },
  {
   "cell_type": "code",
   "execution_count": 64,
   "metadata": {
    "scrolled": false
   },
   "outputs": [
    {
     "name": "stdout",
     "output_type": "stream",
     "text": [
      "File_name: pgd_custom_linf_ageEthnicity_gender_eps_0.3_step_40_iter_100.pkl\n",
      "Custom linf norm advx with Attack concepts: ageEthnicity and Defend concepts: gender\n",
      "Acc of gender concept: 96.4\n",
      "Acc of age concept: 48.4\n",
      "Acc of ethnicity concept: 5.1\n",
      "\n",
      "File_name: pgd_custom_linf_ageEthnicity_gender_eps_0.3_step_40_iter_150.pkl\n",
      "Custom linf norm advx with Attack concepts: ageEthnicity and Defend concepts: gender\n",
      "Acc of gender concept: 96.6\n",
      "Acc of age concept: 46.4\n",
      "Acc of ethnicity concept: 1.9\n",
      "\n",
      "File_name: pgd_custom_linf_ageEthnicity_gender_eps_0.3_step_40_iter_200.pkl\n",
      "Custom linf norm advx with Attack concepts: ageEthnicity and Defend concepts: gender\n",
      "Acc of gender concept: 95.4\n",
      "Acc of age concept: 45.8\n",
      "Acc of ethnicity concept: 1.2\n",
      "\n",
      "File_name: pgd_custom_linf_ageEthnicity_gender_eps_0.3_step_40_iter_50.pkl\n",
      "Custom linf norm advx with Attack concepts: ageEthnicity and Defend concepts: gender\n",
      "Acc of gender concept: 89.6\n",
      "Acc of age concept: 50.0\n",
      "Acc of ethnicity concept: 15.8\n",
      "\n",
      "File_name: pgd_custom_linf_genderAge_ethnicity_eps_0.3_step_40_iter_200.pkl\n",
      "Custom linf norm advx with Attack concepts: genderAge and Defend concepts: ethnicity\n",
      "Acc of gender concept: 4.3\n",
      "Acc of age concept: 43.9\n",
      "Acc of ethnicity concept: 100.0\n",
      "\n",
      "File_name: pgd_custom_linf_genderEthnicity_age_eps_0.3_step_40_iter_200.pkl\n",
      "Custom linf norm advx with Attack concepts: genderEthnicity and Defend concepts: age\n",
      "Acc of gender concept: 3.6\n",
      "Acc of age concept: 83.7\n",
      "Acc of ethnicity concept: 1.7\n",
      "\n"
     ]
    }
   ],
   "source": [
    "custom_advx_wrapper(parent_dir='final_exp_utkface/2_attack_1_defend/linf', dl_dict=dataloader_dict_1000, norm='linf', concept_list=concept_list)"
   ]
  }
 ],
 "metadata": {
  "kernelspec": {
   "display_name": "Python 3",
   "language": "python",
   "name": "python3"
  },
  "language_info": {
   "codemirror_mode": {
    "name": "ipython",
    "version": 3
   },
   "file_extension": ".py",
   "mimetype": "text/x-python",
   "name": "python",
   "nbconvert_exporter": "python",
   "pygments_lexer": "ipython3",
   "version": "3.7.6"
  }
 },
 "nbformat": 4,
 "nbformat_minor": 4
}
